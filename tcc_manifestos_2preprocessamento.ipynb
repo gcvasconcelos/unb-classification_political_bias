{
  "nbformat": 4,
  "nbformat_minor": 0,
  "metadata": {
    "colab": {
      "name": "tcc_manifestos_2preprocessamento.ipynb",
      "provenance": [],
      "mount_file_id": "15xY9jMBnfuEAA-G57SglT3coN8WabL5S",
      "authorship_tag": "ABX9TyOtPOjnzS2WHeRJz14QuXsw",
      "include_colab_link": true
    },
    "kernelspec": {
      "name": "python3",
      "display_name": "Python 3"
    },
    "language_info": {
      "name": "python"
    }
  },
  "cells": [
    {
      "cell_type": "markdown",
      "metadata": {
        "id": "view-in-github",
        "colab_type": "text"
      },
      "source": [
        "<a href=\"https://colab.research.google.com/github/gcvasconcelos/unb-classification_political_bias/blob/main/tcc_manifestos_2preprocessamento.ipynb\" target=\"_parent\"><img src=\"https://colab.research.google.com/assets/colab-badge.svg\" alt=\"Open In Colab\"/></a>"
      ]
    },
    {
      "cell_type": "code",
      "metadata": {
        "colab": {
          "base_uri": "https://localhost:8080/"
        },
        "id": "DNtRYwG_7Z-f",
        "outputId": "1db030bf-fd59-4858-a8de-de58fa4817fa"
      },
      "source": [
        "!pip install unidecode\n",
        "!pip install -U spacy\n",
        "!pip install -U spacy-lookups-data\n",
        "!python -m spacy download pt_core_news_sm"
      ],
      "execution_count": null,
      "outputs": [
        {
          "output_type": "stream",
          "name": "stdout",
          "text": [
            "Requirement already satisfied: unidecode in /usr/local/lib/python3.7/dist-packages (1.3.4)\n",
            "Requirement already satisfied: spacy in /usr/local/lib/python3.7/dist-packages (3.2.4)\n",
            "Requirement already satisfied: thinc<8.1.0,>=8.0.12 in /usr/local/lib/python3.7/dist-packages (from spacy) (8.0.15)\n",
            "Requirement already satisfied: spacy-legacy<3.1.0,>=3.0.8 in /usr/local/lib/python3.7/dist-packages (from spacy) (3.0.9)\n",
            "Requirement already satisfied: packaging>=20.0 in /usr/local/lib/python3.7/dist-packages (from spacy) (21.3)\n",
            "Requirement already satisfied: preshed<3.1.0,>=3.0.2 in /usr/local/lib/python3.7/dist-packages (from spacy) (3.0.6)\n",
            "Requirement already satisfied: catalogue<2.1.0,>=2.0.6 in /usr/local/lib/python3.7/dist-packages (from spacy) (2.0.7)\n",
            "Requirement already satisfied: requests<3.0.0,>=2.13.0 in /usr/local/lib/python3.7/dist-packages (from spacy) (2.23.0)\n",
            "Requirement already satisfied: spacy-loggers<2.0.0,>=1.0.0 in /usr/local/lib/python3.7/dist-packages (from spacy) (1.0.2)\n",
            "Requirement already satisfied: blis<0.8.0,>=0.4.0 in /usr/local/lib/python3.7/dist-packages (from spacy) (0.4.1)\n",
            "Requirement already satisfied: wasabi<1.1.0,>=0.8.1 in /usr/local/lib/python3.7/dist-packages (from spacy) (0.9.1)\n",
            "Requirement already satisfied: pathy>=0.3.5 in /usr/local/lib/python3.7/dist-packages (from spacy) (0.6.1)\n",
            "Requirement already satisfied: jinja2 in /usr/local/lib/python3.7/dist-packages (from spacy) (2.11.3)\n",
            "Requirement already satisfied: numpy>=1.15.0 in /usr/local/lib/python3.7/dist-packages (from spacy) (1.21.5)\n",
            "Requirement already satisfied: cymem<2.1.0,>=2.0.2 in /usr/local/lib/python3.7/dist-packages (from spacy) (2.0.6)\n",
            "Requirement already satisfied: srsly<3.0.0,>=2.4.1 in /usr/local/lib/python3.7/dist-packages (from spacy) (2.4.3)\n",
            "Requirement already satisfied: setuptools in /usr/local/lib/python3.7/dist-packages (from spacy) (57.4.0)\n",
            "Requirement already satisfied: tqdm<5.0.0,>=4.38.0 in /usr/local/lib/python3.7/dist-packages (from spacy) (4.64.0)\n",
            "Requirement already satisfied: pydantic!=1.8,!=1.8.1,<1.9.0,>=1.7.4 in /usr/local/lib/python3.7/dist-packages (from spacy) (1.8.2)\n",
            "Requirement already satisfied: murmurhash<1.1.0,>=0.28.0 in /usr/local/lib/python3.7/dist-packages (from spacy) (1.0.6)\n",
            "Requirement already satisfied: click<8.1.0 in /usr/local/lib/python3.7/dist-packages (from spacy) (7.1.2)\n",
            "Requirement already satisfied: langcodes<4.0.0,>=3.2.0 in /usr/local/lib/python3.7/dist-packages (from spacy) (3.3.0)\n",
            "Requirement already satisfied: typer<0.5.0,>=0.3.0 in /usr/local/lib/python3.7/dist-packages (from spacy) (0.4.1)\n",
            "Requirement already satisfied: typing-extensions<4.0.0.0,>=3.7.4 in /usr/local/lib/python3.7/dist-packages (from spacy) (3.10.0.2)\n",
            "Requirement already satisfied: zipp>=0.5 in /usr/local/lib/python3.7/dist-packages (from catalogue<2.1.0,>=2.0.6->spacy) (3.8.0)\n",
            "Requirement already satisfied: pyparsing!=3.0.5,>=2.0.2 in /usr/local/lib/python3.7/dist-packages (from packaging>=20.0->spacy) (3.0.8)\n",
            "Requirement already satisfied: smart-open<6.0.0,>=5.0.0 in /usr/local/lib/python3.7/dist-packages (from pathy>=0.3.5->spacy) (5.2.1)\n",
            "Requirement already satisfied: chardet<4,>=3.0.2 in /usr/local/lib/python3.7/dist-packages (from requests<3.0.0,>=2.13.0->spacy) (3.0.4)\n",
            "Requirement already satisfied: urllib3!=1.25.0,!=1.25.1,<1.26,>=1.21.1 in /usr/local/lib/python3.7/dist-packages (from requests<3.0.0,>=2.13.0->spacy) (1.24.3)\n",
            "Requirement already satisfied: certifi>=2017.4.17 in /usr/local/lib/python3.7/dist-packages (from requests<3.0.0,>=2.13.0->spacy) (2021.10.8)\n",
            "Requirement already satisfied: idna<3,>=2.5 in /usr/local/lib/python3.7/dist-packages (from requests<3.0.0,>=2.13.0->spacy) (2.10)\n",
            "Requirement already satisfied: MarkupSafe>=0.23 in /usr/local/lib/python3.7/dist-packages (from jinja2->spacy) (2.0.1)\n",
            "Requirement already satisfied: spacy-lookups-data in /usr/local/lib/python3.7/dist-packages (1.0.3)\n",
            "Requirement already satisfied: setuptools in /usr/local/lib/python3.7/dist-packages (from spacy-lookups-data) (57.4.0)\n",
            "Collecting pt-core-news-sm==3.2.0\n",
            "  Downloading https://github.com/explosion/spacy-models/releases/download/pt_core_news_sm-3.2.0/pt_core_news_sm-3.2.0-py3-none-any.whl (22.2 MB)\n",
            "\u001b[K     |████████████████████████████████| 22.2 MB 1.5 MB/s \n",
            "\u001b[?25hRequirement already satisfied: spacy<3.3.0,>=3.2.0 in /usr/local/lib/python3.7/dist-packages (from pt-core-news-sm==3.2.0) (3.2.4)\n",
            "Requirement already satisfied: srsly<3.0.0,>=2.4.1 in /usr/local/lib/python3.7/dist-packages (from spacy<3.3.0,>=3.2.0->pt-core-news-sm==3.2.0) (2.4.3)\n",
            "Requirement already satisfied: requests<3.0.0,>=2.13.0 in /usr/local/lib/python3.7/dist-packages (from spacy<3.3.0,>=3.2.0->pt-core-news-sm==3.2.0) (2.23.0)\n",
            "Requirement already satisfied: packaging>=20.0 in /usr/local/lib/python3.7/dist-packages (from spacy<3.3.0,>=3.2.0->pt-core-news-sm==3.2.0) (21.3)\n",
            "Requirement already satisfied: thinc<8.1.0,>=8.0.12 in /usr/local/lib/python3.7/dist-packages (from spacy<3.3.0,>=3.2.0->pt-core-news-sm==3.2.0) (8.0.15)\n",
            "Requirement already satisfied: pathy>=0.3.5 in /usr/local/lib/python3.7/dist-packages (from spacy<3.3.0,>=3.2.0->pt-core-news-sm==3.2.0) (0.6.1)\n",
            "Requirement already satisfied: typing-extensions<4.0.0.0,>=3.7.4 in /usr/local/lib/python3.7/dist-packages (from spacy<3.3.0,>=3.2.0->pt-core-news-sm==3.2.0) (3.10.0.2)\n",
            "Requirement already satisfied: cymem<2.1.0,>=2.0.2 in /usr/local/lib/python3.7/dist-packages (from spacy<3.3.0,>=3.2.0->pt-core-news-sm==3.2.0) (2.0.6)\n",
            "Requirement already satisfied: click<8.1.0 in /usr/local/lib/python3.7/dist-packages (from spacy<3.3.0,>=3.2.0->pt-core-news-sm==3.2.0) (7.1.2)\n",
            "Requirement already satisfied: blis<0.8.0,>=0.4.0 in /usr/local/lib/python3.7/dist-packages (from spacy<3.3.0,>=3.2.0->pt-core-news-sm==3.2.0) (0.4.1)\n",
            "Requirement already satisfied: langcodes<4.0.0,>=3.2.0 in /usr/local/lib/python3.7/dist-packages (from spacy<3.3.0,>=3.2.0->pt-core-news-sm==3.2.0) (3.3.0)\n",
            "Requirement already satisfied: spacy-legacy<3.1.0,>=3.0.8 in /usr/local/lib/python3.7/dist-packages (from spacy<3.3.0,>=3.2.0->pt-core-news-sm==3.2.0) (3.0.9)\n",
            "Requirement already satisfied: wasabi<1.1.0,>=0.8.1 in /usr/local/lib/python3.7/dist-packages (from spacy<3.3.0,>=3.2.0->pt-core-news-sm==3.2.0) (0.9.1)\n",
            "Requirement already satisfied: spacy-loggers<2.0.0,>=1.0.0 in /usr/local/lib/python3.7/dist-packages (from spacy<3.3.0,>=3.2.0->pt-core-news-sm==3.2.0) (1.0.2)\n",
            "Requirement already satisfied: pydantic!=1.8,!=1.8.1,<1.9.0,>=1.7.4 in /usr/local/lib/python3.7/dist-packages (from spacy<3.3.0,>=3.2.0->pt-core-news-sm==3.2.0) (1.8.2)\n",
            "Requirement already satisfied: tqdm<5.0.0,>=4.38.0 in /usr/local/lib/python3.7/dist-packages (from spacy<3.3.0,>=3.2.0->pt-core-news-sm==3.2.0) (4.64.0)\n",
            "Requirement already satisfied: catalogue<2.1.0,>=2.0.6 in /usr/local/lib/python3.7/dist-packages (from spacy<3.3.0,>=3.2.0->pt-core-news-sm==3.2.0) (2.0.7)\n",
            "Requirement already satisfied: preshed<3.1.0,>=3.0.2 in /usr/local/lib/python3.7/dist-packages (from spacy<3.3.0,>=3.2.0->pt-core-news-sm==3.2.0) (3.0.6)\n",
            "Requirement already satisfied: typer<0.5.0,>=0.3.0 in /usr/local/lib/python3.7/dist-packages (from spacy<3.3.0,>=3.2.0->pt-core-news-sm==3.2.0) (0.4.1)\n",
            "Requirement already satisfied: setuptools in /usr/local/lib/python3.7/dist-packages (from spacy<3.3.0,>=3.2.0->pt-core-news-sm==3.2.0) (57.4.0)\n",
            "Requirement already satisfied: jinja2 in /usr/local/lib/python3.7/dist-packages (from spacy<3.3.0,>=3.2.0->pt-core-news-sm==3.2.0) (2.11.3)\n",
            "Requirement already satisfied: murmurhash<1.1.0,>=0.28.0 in /usr/local/lib/python3.7/dist-packages (from spacy<3.3.0,>=3.2.0->pt-core-news-sm==3.2.0) (1.0.6)\n",
            "Requirement already satisfied: numpy>=1.15.0 in /usr/local/lib/python3.7/dist-packages (from spacy<3.3.0,>=3.2.0->pt-core-news-sm==3.2.0) (1.21.5)\n",
            "Requirement already satisfied: zipp>=0.5 in /usr/local/lib/python3.7/dist-packages (from catalogue<2.1.0,>=2.0.6->spacy<3.3.0,>=3.2.0->pt-core-news-sm==3.2.0) (3.8.0)\n",
            "Requirement already satisfied: pyparsing!=3.0.5,>=2.0.2 in /usr/local/lib/python3.7/dist-packages (from packaging>=20.0->spacy<3.3.0,>=3.2.0->pt-core-news-sm==3.2.0) (3.0.8)\n",
            "Requirement already satisfied: smart-open<6.0.0,>=5.0.0 in /usr/local/lib/python3.7/dist-packages (from pathy>=0.3.5->spacy<3.3.0,>=3.2.0->pt-core-news-sm==3.2.0) (5.2.1)\n",
            "Requirement already satisfied: idna<3,>=2.5 in /usr/local/lib/python3.7/dist-packages (from requests<3.0.0,>=2.13.0->spacy<3.3.0,>=3.2.0->pt-core-news-sm==3.2.0) (2.10)\n",
            "Requirement already satisfied: chardet<4,>=3.0.2 in /usr/local/lib/python3.7/dist-packages (from requests<3.0.0,>=2.13.0->spacy<3.3.0,>=3.2.0->pt-core-news-sm==3.2.0) (3.0.4)\n",
            "Requirement already satisfied: certifi>=2017.4.17 in /usr/local/lib/python3.7/dist-packages (from requests<3.0.0,>=2.13.0->spacy<3.3.0,>=3.2.0->pt-core-news-sm==3.2.0) (2021.10.8)\n",
            "Requirement already satisfied: urllib3!=1.25.0,!=1.25.1,<1.26,>=1.21.1 in /usr/local/lib/python3.7/dist-packages (from requests<3.0.0,>=2.13.0->spacy<3.3.0,>=3.2.0->pt-core-news-sm==3.2.0) (1.24.3)\n",
            "Requirement already satisfied: MarkupSafe>=0.23 in /usr/local/lib/python3.7/dist-packages (from jinja2->spacy<3.3.0,>=3.2.0->pt-core-news-sm==3.2.0) (2.0.1)\n",
            "\u001b[38;5;2m✔ Download and installation successful\u001b[0m\n",
            "You can now load the package via spacy.load('pt_core_news_sm')\n"
          ]
        }
      ]
    },
    {
      "cell_type": "code",
      "metadata": {
        "id": "HGUmlsKB2my1"
      },
      "source": [
        "import pandas as pd\n",
        "import pickle\n",
        "import dateutil.parser\n",
        "from unidecode import unidecode\n",
        "import spacy\n",
        "import re\n",
        "import time\n",
        "from collections import defaultdict"
      ],
      "execution_count": null,
      "outputs": []
    },
    {
      "cell_type": "markdown",
      "metadata": {
        "id": "T2WbkGFV2p45"
      },
      "source": [
        "# Pré-processamento da base de sentenças\n"
      ]
    },
    {
      "cell_type": "code",
      "metadata": {
        "colab": {
          "base_uri": "https://localhost:8080/",
          "height": 432
        },
        "id": "5PjWZmTj2pFR",
        "outputId": "cf9aa696-5a37-4f24-9aae-b04fda7477b8"
      },
      "source": [
        "raw_sentences = pd.read_csv('/content/drive/MyDrive/UnB/TCC/dados_processados/manifestos_sentences.csv', keep_default_na=False)\n",
        "raw_sentences.info()\n",
        "raw_sentences.head()"
      ],
      "execution_count": null,
      "outputs": [
        {
          "output_type": "stream",
          "name": "stdout",
          "text": [
            "<class 'pandas.core.frame.DataFrame'>\n",
            "RangeIndex: 92041 entries, 0 to 92040\n",
            "Data columns (total 6 columns):\n",
            " #   Column       Non-Null Count  Dtype \n",
            "---  ------       --------------  ----- \n",
            " 0   manifest_id  92041 non-null  object\n",
            " 1   text         92041 non-null  object\n",
            " 2   domain_code  92041 non-null  int64 \n",
            " 3   domain_name  92041 non-null  object\n",
            " 4   code         92041 non-null  object\n",
            " 5   label        92041 non-null  object\n",
            "dtypes: int64(1), object(5)\n",
            "memory usage: 4.2+ MB\n"
          ]
        },
        {
          "output_type": "execute_result",
          "data": {
            "text/plain": [
              "     manifest_id                                               text  \\\n",
              "0  180110_201010           Agenda por um Brasil Justo e Sustentável   \n",
              "1  180110_201010  Propostas de Marina Silva e do Partido Verde p...   \n",
              "2  180110_201010  As propostas foram elaboradas a partir das Dir...   \n",
              "3  180110_201010                              Transparência e ética   \n",
              "4  180110_201010  Não instituicão de qualquer mecanismo de tutel...   \n",
              "\n",
              "   domain_code            domain_name   code         label  \n",
              "0            0              No Domain     NA       uncoded  \n",
              "1            0              No Domain     NA       uncoded  \n",
              "2            0              No Domain     NA       uncoded  \n",
              "3            0              No Domain     NA       uncoded  \n",
              "4            2  Freedom and Democracy  201.2  human rights  "
            ],
            "text/html": [
              "\n",
              "  <div id=\"df-c9c4f17b-2553-4c24-addc-0e72b12dfeca\">\n",
              "    <div class=\"colab-df-container\">\n",
              "      <div>\n",
              "<style scoped>\n",
              "    .dataframe tbody tr th:only-of-type {\n",
              "        vertical-align: middle;\n",
              "    }\n",
              "\n",
              "    .dataframe tbody tr th {\n",
              "        vertical-align: top;\n",
              "    }\n",
              "\n",
              "    .dataframe thead th {\n",
              "        text-align: right;\n",
              "    }\n",
              "</style>\n",
              "<table border=\"1\" class=\"dataframe\">\n",
              "  <thead>\n",
              "    <tr style=\"text-align: right;\">\n",
              "      <th></th>\n",
              "      <th>manifest_id</th>\n",
              "      <th>text</th>\n",
              "      <th>domain_code</th>\n",
              "      <th>domain_name</th>\n",
              "      <th>code</th>\n",
              "      <th>label</th>\n",
              "    </tr>\n",
              "  </thead>\n",
              "  <tbody>\n",
              "    <tr>\n",
              "      <th>0</th>\n",
              "      <td>180110_201010</td>\n",
              "      <td>Agenda por um Brasil Justo e Sustentável</td>\n",
              "      <td>0</td>\n",
              "      <td>No Domain</td>\n",
              "      <td>NA</td>\n",
              "      <td>uncoded</td>\n",
              "    </tr>\n",
              "    <tr>\n",
              "      <th>1</th>\n",
              "      <td>180110_201010</td>\n",
              "      <td>Propostas de Marina Silva e do Partido Verde p...</td>\n",
              "      <td>0</td>\n",
              "      <td>No Domain</td>\n",
              "      <td>NA</td>\n",
              "      <td>uncoded</td>\n",
              "    </tr>\n",
              "    <tr>\n",
              "      <th>2</th>\n",
              "      <td>180110_201010</td>\n",
              "      <td>As propostas foram elaboradas a partir das Dir...</td>\n",
              "      <td>0</td>\n",
              "      <td>No Domain</td>\n",
              "      <td>NA</td>\n",
              "      <td>uncoded</td>\n",
              "    </tr>\n",
              "    <tr>\n",
              "      <th>3</th>\n",
              "      <td>180110_201010</td>\n",
              "      <td>Transparência e ética</td>\n",
              "      <td>0</td>\n",
              "      <td>No Domain</td>\n",
              "      <td>NA</td>\n",
              "      <td>uncoded</td>\n",
              "    </tr>\n",
              "    <tr>\n",
              "      <th>4</th>\n",
              "      <td>180110_201010</td>\n",
              "      <td>Não instituicão de qualquer mecanismo de tutel...</td>\n",
              "      <td>2</td>\n",
              "      <td>Freedom and Democracy</td>\n",
              "      <td>201.2</td>\n",
              "      <td>human rights</td>\n",
              "    </tr>\n",
              "  </tbody>\n",
              "</table>\n",
              "</div>\n",
              "      <button class=\"colab-df-convert\" onclick=\"convertToInteractive('df-c9c4f17b-2553-4c24-addc-0e72b12dfeca')\"\n",
              "              title=\"Convert this dataframe to an interactive table.\"\n",
              "              style=\"display:none;\">\n",
              "        \n",
              "  <svg xmlns=\"http://www.w3.org/2000/svg\" height=\"24px\"viewBox=\"0 0 24 24\"\n",
              "       width=\"24px\">\n",
              "    <path d=\"M0 0h24v24H0V0z\" fill=\"none\"/>\n",
              "    <path d=\"M18.56 5.44l.94 2.06.94-2.06 2.06-.94-2.06-.94-.94-2.06-.94 2.06-2.06.94zm-11 1L8.5 8.5l.94-2.06 2.06-.94-2.06-.94L8.5 2.5l-.94 2.06-2.06.94zm10 10l.94 2.06.94-2.06 2.06-.94-2.06-.94-.94-2.06-.94 2.06-2.06.94z\"/><path d=\"M17.41 7.96l-1.37-1.37c-.4-.4-.92-.59-1.43-.59-.52 0-1.04.2-1.43.59L10.3 9.45l-7.72 7.72c-.78.78-.78 2.05 0 2.83L4 21.41c.39.39.9.59 1.41.59.51 0 1.02-.2 1.41-.59l7.78-7.78 2.81-2.81c.8-.78.8-2.07 0-2.86zM5.41 20L4 18.59l7.72-7.72 1.47 1.35L5.41 20z\"/>\n",
              "  </svg>\n",
              "      </button>\n",
              "      \n",
              "  <style>\n",
              "    .colab-df-container {\n",
              "      display:flex;\n",
              "      flex-wrap:wrap;\n",
              "      gap: 12px;\n",
              "    }\n",
              "\n",
              "    .colab-df-convert {\n",
              "      background-color: #E8F0FE;\n",
              "      border: none;\n",
              "      border-radius: 50%;\n",
              "      cursor: pointer;\n",
              "      display: none;\n",
              "      fill: #1967D2;\n",
              "      height: 32px;\n",
              "      padding: 0 0 0 0;\n",
              "      width: 32px;\n",
              "    }\n",
              "\n",
              "    .colab-df-convert:hover {\n",
              "      background-color: #E2EBFA;\n",
              "      box-shadow: 0px 1px 2px rgba(60, 64, 67, 0.3), 0px 1px 3px 1px rgba(60, 64, 67, 0.15);\n",
              "      fill: #174EA6;\n",
              "    }\n",
              "\n",
              "    [theme=dark] .colab-df-convert {\n",
              "      background-color: #3B4455;\n",
              "      fill: #D2E3FC;\n",
              "    }\n",
              "\n",
              "    [theme=dark] .colab-df-convert:hover {\n",
              "      background-color: #434B5C;\n",
              "      box-shadow: 0px 1px 3px 1px rgba(0, 0, 0, 0.15);\n",
              "      filter: drop-shadow(0px 1px 2px rgba(0, 0, 0, 0.3));\n",
              "      fill: #FFFFFF;\n",
              "    }\n",
              "  </style>\n",
              "\n",
              "      <script>\n",
              "        const buttonEl =\n",
              "          document.querySelector('#df-c9c4f17b-2553-4c24-addc-0e72b12dfeca button.colab-df-convert');\n",
              "        buttonEl.style.display =\n",
              "          google.colab.kernel.accessAllowed ? 'block' : 'none';\n",
              "\n",
              "        async function convertToInteractive(key) {\n",
              "          const element = document.querySelector('#df-c9c4f17b-2553-4c24-addc-0e72b12dfeca');\n",
              "          const dataTable =\n",
              "            await google.colab.kernel.invokeFunction('convertToInteractive',\n",
              "                                                     [key], {});\n",
              "          if (!dataTable) return;\n",
              "\n",
              "          const docLinkHtml = 'Like what you see? Visit the ' +\n",
              "            '<a target=\"_blank\" href=https://colab.research.google.com/notebooks/data_table.ipynb>data table notebook</a>'\n",
              "            + ' to learn more about interactive tables.';\n",
              "          element.innerHTML = '';\n",
              "          dataTable['output_type'] = 'display_data';\n",
              "          await google.colab.output.renderOutput(dataTable, element);\n",
              "          const docLink = document.createElement('div');\n",
              "          docLink.innerHTML = docLinkHtml;\n",
              "          element.appendChild(docLink);\n",
              "        }\n",
              "      </script>\n",
              "    </div>\n",
              "  </div>\n",
              "  "
            ]
          },
          "metadata": {},
          "execution_count": 4
        }
      ]
    },
    {
      "cell_type": "markdown",
      "source": [
        "## Padronização"
      ],
      "metadata": {
        "id": "AW7ajpKnSHVz"
      }
    },
    {
      "cell_type": "code",
      "metadata": {
        "colab": {
          "base_uri": "https://localhost:8080/"
        },
        "id": "I2ngIZXq7LEb",
        "outputId": "ccff899a-f076-401b-e1f8-3992f00ed755"
      },
      "source": [
        "def standardize_dataframe(df, text_column, target_column):\n",
        "    df[text_column] = df[text_column].str.lower()\n",
        "    df[text_column] = df[text_column].apply(unidecode)\n",
        "\n",
        "    df[target_column] = df[target_column].astype(str)\n",
        "    df[target_column] = df[target_column].str.upper()\n",
        "    df[target_column] = df[target_column].apply(unidecode)\n",
        "\n",
        "    df.columns = [str(col).upper().strip() for col in df.columns]\n",
        "    print(df.info())\n",
        "\n",
        "standardize_dataframe(raw_sentences, 'text', 'code')"
      ],
      "execution_count": null,
      "outputs": [
        {
          "output_type": "stream",
          "name": "stdout",
          "text": [
            "<class 'pandas.core.frame.DataFrame'>\n",
            "RangeIndex: 92041 entries, 0 to 92040\n",
            "Data columns (total 6 columns):\n",
            " #   Column       Non-Null Count  Dtype \n",
            "---  ------       --------------  ----- \n",
            " 0   MANIFEST_ID  92041 non-null  object\n",
            " 1   TEXT         92041 non-null  object\n",
            " 2   DOMAIN_CODE  92041 non-null  int64 \n",
            " 3   DOMAIN_NAME  92041 non-null  object\n",
            " 4   CODE         92041 non-null  object\n",
            " 5   LABEL        92041 non-null  object\n",
            "dtypes: int64(1), object(5)\n",
            "memory usage: 4.2+ MB\n",
            "None\n"
          ]
        }
      ]
    },
    {
      "cell_type": "code",
      "metadata": {
        "colab": {
          "base_uri": "https://localhost:8080/"
        },
        "id": "gBwTLlLOUURY",
        "outputId": "5c5d93a2-5bde-40c4-9e47-65f0a83d9e23"
      },
      "source": [
        "raw_sentences.TEXT"
      ],
      "execution_count": null,
      "outputs": [
        {
          "output_type": "execute_result",
          "data": {
            "text/plain": [
              "0                 agenda por um brasil justo e sustentavel\n",
              "1        propostas de marina silva e do partido verde p...\n",
              "2        as propostas foram elaboradas a partir das dir...\n",
              "3                                    transparencia e etica\n",
              "4        nao instituicao de qualquer mecanismo de tutel...\n",
              "                               ...                        \n",
              "92036    e isto so e possivel se os custos de \"empregab...\n",
              "92037    5.a flexibilizacao dos salarios pela aplicacao...\n",
              "92038    6.alteracao dos horarios de trabalho especialm...\n",
              "92039    7.fixacao de uma idade a partir de qual a refo...\n",
              "92040    8.a legislacao devera equiparar os trabalhador...\n",
              "Name: TEXT, Length: 92041, dtype: object"
            ]
          },
          "metadata": {},
          "execution_count": 6
        }
      ]
    },
    {
      "cell_type": "markdown",
      "source": [
        "## Limpeza e Remoção de stop words"
      ],
      "metadata": {
        "id": "BMo3UOw_RpaY"
      }
    },
    {
      "cell_type": "code",
      "source": [
        "regex_dict = {\n",
        "    r\"\\\\n|\\\\xa0\": \" \"\n",
        "    , r\"[^a-zÀ-ÿ]\": \" \"\n",
        "    , r\"\\b[a-zÀ-ÿ]{1,2}\\b\": \" \"\n",
        "    , r\"\\s+\": \" \"\n",
        "}\n",
        "\n",
        "regex = {re.compile(k): v for k, v in regex_dict.items()}\n",
        "\n",
        "def parse_text(text):\n",
        "    for pattern, replacement in regex.items():\n",
        "        text = pattern.sub(replacement, text)\n",
        "    return text\n",
        "\n",
        "def text_cleaning(df, text_column):\n",
        "    clean_text = df[text_column].str.lower()\n",
        "    clean_text = clean_text.apply(unidecode)\n",
        "    clean_text = clean_text.apply(parse_text)\n",
        "    clean_text = clean_text.str.strip()\n",
        "\n",
        "    return clean_text\n",
        "\n",
        "t = time.time()\n",
        "raw_sentences['TEXT_CLEAN'] = text_cleaning(raw_sentences, 'TEXT')\n",
        "print(f'Tempo de processamento da limpeza do texto: {round((time.time() - t) / 60, 2)} mins')"
      ],
      "metadata": {
        "colab": {
          "base_uri": "https://localhost:8080/"
        },
        "id": "RMTelIOdQI6u",
        "outputId": "221240a0-d4c5-40d5-9521-bfcec457065c"
      },
      "execution_count": null,
      "outputs": [
        {
          "output_type": "stream",
          "name": "stdout",
          "text": [
            "Tempo de processamento da limpeza do texto: 0.03 mins\n"
          ]
        }
      ]
    },
    {
      "cell_type": "code",
      "metadata": {
        "colab": {
          "base_uri": "https://localhost:8080/",
          "height": 424
        },
        "id": "MMpnSt0MV78S",
        "outputId": "24870476-435d-490e-fb29-d93c5b925613"
      },
      "source": [
        "raw_sentences[['TEXT', 'TEXT_CLEAN']]"
      ],
      "execution_count": null,
      "outputs": [
        {
          "output_type": "execute_result",
          "data": {
            "text/plain": [
              "                                                    TEXT  \\\n",
              "0               agenda por um brasil justo e sustentavel   \n",
              "1      propostas de marina silva e do partido verde p...   \n",
              "2      as propostas foram elaboradas a partir das dir...   \n",
              "3                                  transparencia e etica   \n",
              "4      nao instituicao de qualquer mecanismo de tutel...   \n",
              "...                                                  ...   \n",
              "92036  e isto so e possivel se os custos de \"empregab...   \n",
              "92037  5.a flexibilizacao dos salarios pela aplicacao...   \n",
              "92038  6.alteracao dos horarios de trabalho especialm...   \n",
              "92039  7.fixacao de uma idade a partir de qual a refo...   \n",
              "92040  8.a legislacao devera equiparar os trabalhador...   \n",
              "\n",
              "                                              TEXT_CLEAN  \n",
              "0                    agenda por brasil justo sustentavel  \n",
              "1      propostas marina silva partido verde para cand...  \n",
              "2      propostas foram elaboradas partir das diretriz...  \n",
              "3                                    transparencia etica  \n",
              "4      nao instituicao qualquer mecanismo tutela cont...  \n",
              "...                                                  ...  \n",
              "92036  isto possivel custos empregabilidade salarios ...  \n",
              "92037  flexibilizacao dos salarios pela aplicacao max...  \n",
              "92038  alteracao dos horarios trabalho especialmente ...  \n",
              "92039  fixacao uma idade partir qual reforma torne fa...  \n",
              "92040  legislacao devera equiparar trabalhadores sect...  \n",
              "\n",
              "[92041 rows x 2 columns]"
            ],
            "text/html": [
              "\n",
              "  <div id=\"df-7cd4ba3d-459f-417b-ab1c-9147f9176170\">\n",
              "    <div class=\"colab-df-container\">\n",
              "      <div>\n",
              "<style scoped>\n",
              "    .dataframe tbody tr th:only-of-type {\n",
              "        vertical-align: middle;\n",
              "    }\n",
              "\n",
              "    .dataframe tbody tr th {\n",
              "        vertical-align: top;\n",
              "    }\n",
              "\n",
              "    .dataframe thead th {\n",
              "        text-align: right;\n",
              "    }\n",
              "</style>\n",
              "<table border=\"1\" class=\"dataframe\">\n",
              "  <thead>\n",
              "    <tr style=\"text-align: right;\">\n",
              "      <th></th>\n",
              "      <th>TEXT</th>\n",
              "      <th>TEXT_CLEAN</th>\n",
              "    </tr>\n",
              "  </thead>\n",
              "  <tbody>\n",
              "    <tr>\n",
              "      <th>0</th>\n",
              "      <td>agenda por um brasil justo e sustentavel</td>\n",
              "      <td>agenda por brasil justo sustentavel</td>\n",
              "    </tr>\n",
              "    <tr>\n",
              "      <th>1</th>\n",
              "      <td>propostas de marina silva e do partido verde p...</td>\n",
              "      <td>propostas marina silva partido verde para cand...</td>\n",
              "    </tr>\n",
              "    <tr>\n",
              "      <th>2</th>\n",
              "      <td>as propostas foram elaboradas a partir das dir...</td>\n",
              "      <td>propostas foram elaboradas partir das diretriz...</td>\n",
              "    </tr>\n",
              "    <tr>\n",
              "      <th>3</th>\n",
              "      <td>transparencia e etica</td>\n",
              "      <td>transparencia etica</td>\n",
              "    </tr>\n",
              "    <tr>\n",
              "      <th>4</th>\n",
              "      <td>nao instituicao de qualquer mecanismo de tutel...</td>\n",
              "      <td>nao instituicao qualquer mecanismo tutela cont...</td>\n",
              "    </tr>\n",
              "    <tr>\n",
              "      <th>...</th>\n",
              "      <td>...</td>\n",
              "      <td>...</td>\n",
              "    </tr>\n",
              "    <tr>\n",
              "      <th>92036</th>\n",
              "      <td>e isto so e possivel se os custos de \"empregab...</td>\n",
              "      <td>isto possivel custos empregabilidade salarios ...</td>\n",
              "    </tr>\n",
              "    <tr>\n",
              "      <th>92037</th>\n",
              "      <td>5.a flexibilizacao dos salarios pela aplicacao...</td>\n",
              "      <td>flexibilizacao dos salarios pela aplicacao max...</td>\n",
              "    </tr>\n",
              "    <tr>\n",
              "      <th>92038</th>\n",
              "      <td>6.alteracao dos horarios de trabalho especialm...</td>\n",
              "      <td>alteracao dos horarios trabalho especialmente ...</td>\n",
              "    </tr>\n",
              "    <tr>\n",
              "      <th>92039</th>\n",
              "      <td>7.fixacao de uma idade a partir de qual a refo...</td>\n",
              "      <td>fixacao uma idade partir qual reforma torne fa...</td>\n",
              "    </tr>\n",
              "    <tr>\n",
              "      <th>92040</th>\n",
              "      <td>8.a legislacao devera equiparar os trabalhador...</td>\n",
              "      <td>legislacao devera equiparar trabalhadores sect...</td>\n",
              "    </tr>\n",
              "  </tbody>\n",
              "</table>\n",
              "<p>92041 rows × 2 columns</p>\n",
              "</div>\n",
              "      <button class=\"colab-df-convert\" onclick=\"convertToInteractive('df-7cd4ba3d-459f-417b-ab1c-9147f9176170')\"\n",
              "              title=\"Convert this dataframe to an interactive table.\"\n",
              "              style=\"display:none;\">\n",
              "        \n",
              "  <svg xmlns=\"http://www.w3.org/2000/svg\" height=\"24px\"viewBox=\"0 0 24 24\"\n",
              "       width=\"24px\">\n",
              "    <path d=\"M0 0h24v24H0V0z\" fill=\"none\"/>\n",
              "    <path d=\"M18.56 5.44l.94 2.06.94-2.06 2.06-.94-2.06-.94-.94-2.06-.94 2.06-2.06.94zm-11 1L8.5 8.5l.94-2.06 2.06-.94-2.06-.94L8.5 2.5l-.94 2.06-2.06.94zm10 10l.94 2.06.94-2.06 2.06-.94-2.06-.94-.94-2.06-.94 2.06-2.06.94z\"/><path d=\"M17.41 7.96l-1.37-1.37c-.4-.4-.92-.59-1.43-.59-.52 0-1.04.2-1.43.59L10.3 9.45l-7.72 7.72c-.78.78-.78 2.05 0 2.83L4 21.41c.39.39.9.59 1.41.59.51 0 1.02-.2 1.41-.59l7.78-7.78 2.81-2.81c.8-.78.8-2.07 0-2.86zM5.41 20L4 18.59l7.72-7.72 1.47 1.35L5.41 20z\"/>\n",
              "  </svg>\n",
              "      </button>\n",
              "      \n",
              "  <style>\n",
              "    .colab-df-container {\n",
              "      display:flex;\n",
              "      flex-wrap:wrap;\n",
              "      gap: 12px;\n",
              "    }\n",
              "\n",
              "    .colab-df-convert {\n",
              "      background-color: #E8F0FE;\n",
              "      border: none;\n",
              "      border-radius: 50%;\n",
              "      cursor: pointer;\n",
              "      display: none;\n",
              "      fill: #1967D2;\n",
              "      height: 32px;\n",
              "      padding: 0 0 0 0;\n",
              "      width: 32px;\n",
              "    }\n",
              "\n",
              "    .colab-df-convert:hover {\n",
              "      background-color: #E2EBFA;\n",
              "      box-shadow: 0px 1px 2px rgba(60, 64, 67, 0.3), 0px 1px 3px 1px rgba(60, 64, 67, 0.15);\n",
              "      fill: #174EA6;\n",
              "    }\n",
              "\n",
              "    [theme=dark] .colab-df-convert {\n",
              "      background-color: #3B4455;\n",
              "      fill: #D2E3FC;\n",
              "    }\n",
              "\n",
              "    [theme=dark] .colab-df-convert:hover {\n",
              "      background-color: #434B5C;\n",
              "      box-shadow: 0px 1px 3px 1px rgba(0, 0, 0, 0.15);\n",
              "      filter: drop-shadow(0px 1px 2px rgba(0, 0, 0, 0.3));\n",
              "      fill: #FFFFFF;\n",
              "    }\n",
              "  </style>\n",
              "\n",
              "      <script>\n",
              "        const buttonEl =\n",
              "          document.querySelector('#df-7cd4ba3d-459f-417b-ab1c-9147f9176170 button.colab-df-convert');\n",
              "        buttonEl.style.display =\n",
              "          google.colab.kernel.accessAllowed ? 'block' : 'none';\n",
              "\n",
              "        async function convertToInteractive(key) {\n",
              "          const element = document.querySelector('#df-7cd4ba3d-459f-417b-ab1c-9147f9176170');\n",
              "          const dataTable =\n",
              "            await google.colab.kernel.invokeFunction('convertToInteractive',\n",
              "                                                     [key], {});\n",
              "          if (!dataTable) return;\n",
              "\n",
              "          const docLinkHtml = 'Like what you see? Visit the ' +\n",
              "            '<a target=\"_blank\" href=https://colab.research.google.com/notebooks/data_table.ipynb>data table notebook</a>'\n",
              "            + ' to learn more about interactive tables.';\n",
              "          element.innerHTML = '';\n",
              "          dataTable['output_type'] = 'display_data';\n",
              "          await google.colab.output.renderOutput(dataTable, element);\n",
              "          const docLink = document.createElement('div');\n",
              "          docLink.innerHTML = docLinkHtml;\n",
              "          element.appendChild(docLink);\n",
              "        }\n",
              "      </script>\n",
              "    </div>\n",
              "  </div>\n",
              "  "
            ]
          },
          "metadata": {},
          "execution_count": 8
        }
      ]
    },
    {
      "cell_type": "code",
      "source": [
        "from spacy.lang.pt.stop_words import STOP_WORDS\n",
        "import nltk\n",
        "\n",
        "nltk.download('stopwords') \n",
        "\n",
        "stopwords_set = set(STOP_WORDS)\\\n",
        "                    .union(set(nltk.corpus.stopwords.words('portuguese')))\n",
        "stopwords_set = {unidecode(s) for s in stopwords_set}\n",
        "# stopwords_set"
      ],
      "metadata": {
        "colab": {
          "base_uri": "https://localhost:8080/"
        },
        "id": "pYDlha22P5to",
        "outputId": "72935dbf-374a-4d9b-f754-6e70dffd8909"
      },
      "execution_count": null,
      "outputs": [
        {
          "output_type": "stream",
          "name": "stdout",
          "text": [
            "[nltk_data] Downloading package stopwords to /root/nltk_data...\n",
            "[nltk_data]   Package stopwords is already up-to-date!\n"
          ]
        }
      ]
    },
    {
      "cell_type": "code",
      "source": [
        "def remove_stopwords(doc):\n",
        "    corpus = [token for token in doc.split() if token not in stopwords_set]\n",
        "    return corpus\n",
        "\n",
        "t = time.time()\n",
        "\n",
        "raw_sentences['TEXT_TOKEN'] = raw_sentences['TEXT_CLEAN'].apply(remove_stopwords)\n",
        "\n",
        "print(f'Tempo de processamento tokenização: {round((time.time() - t) / 60, 2)} mins')\n",
        "\" \".join(raw_sentences['TEXT_TOKEN'].iat[1])"
      ],
      "metadata": {
        "colab": {
          "base_uri": "https://localhost:8080/",
          "height": 70
        },
        "id": "5rH2FW-RRWrE",
        "outputId": "7dbdf665-2a63-4d9c-c6a4-edd9b0b421ed"
      },
      "execution_count": null,
      "outputs": [
        {
          "output_type": "stream",
          "name": "stdout",
          "text": [
            "Tempo de processamento tokenização: 0.01 mins\n"
          ]
        },
        {
          "output_type": "execute_result",
          "data": {
            "text/plain": [
              "'propostas marina silva partido verde candidatos turno campanha presidencial buscando compromissos programaticos brasil justo sustentavel construcao governabilidade base principios valores eticos'"
            ],
            "application/vnd.google.colaboratory.intrinsic+json": {
              "type": "string"
            }
          },
          "metadata": {},
          "execution_count": 10
        }
      ]
    },
    {
      "cell_type": "code",
      "source": [
        "raw_sentences['TEXT_TOKEN'] = raw_sentences['TEXT_TOKEN'].apply(lambda x: ' '.join(x))\n",
        "raw_sentences[['TEXT', 'TEXT_TOKEN']]"
      ],
      "metadata": {
        "colab": {
          "base_uri": "https://localhost:8080/",
          "height": 424
        },
        "id": "nVwZEgLeRjVz",
        "outputId": "3e2ce224-d8fb-47c0-9704-98295eb7e723"
      },
      "execution_count": null,
      "outputs": [
        {
          "output_type": "execute_result",
          "data": {
            "text/plain": [
              "                                                    TEXT  \\\n",
              "0               agenda por um brasil justo e sustentavel   \n",
              "1      propostas de marina silva e do partido verde p...   \n",
              "2      as propostas foram elaboradas a partir das dir...   \n",
              "3                                  transparencia e etica   \n",
              "4      nao instituicao de qualquer mecanismo de tutel...   \n",
              "...                                                  ...   \n",
              "92036  e isto so e possivel se os custos de \"empregab...   \n",
              "92037  5.a flexibilizacao dos salarios pela aplicacao...   \n",
              "92038  6.alteracao dos horarios de trabalho especialm...   \n",
              "92039  7.fixacao de uma idade a partir de qual a refo...   \n",
              "92040  8.a legislacao devera equiparar os trabalhador...   \n",
              "\n",
              "                                              TEXT_TOKEN  \n",
              "0                        agenda brasil justo sustentavel  \n",
              "1      propostas marina silva partido verde candidato...  \n",
              "2      propostas elaboradas diretrizes programa gover...  \n",
              "3                                    transparencia etica  \n",
              "4      instituicao mecanismo tutela controle liberdad...  \n",
              "...                                                  ...  \n",
              "92036  custos empregabilidade salarios restricoes leg...  \n",
              "92037  flexibilizacao salarios aplicacao maxima salar...  \n",
              "92038  alteracao horarios trabalho especialmente resp...  \n",
              "92039  fixacao idade reforma torne facultativa obriga...  \n",
              "92040  legislacao equiparar trabalhadores sector publ...  \n",
              "\n",
              "[92041 rows x 2 columns]"
            ],
            "text/html": [
              "\n",
              "  <div id=\"df-a8426391-0fc1-46e0-9cf8-b66b8961e59e\">\n",
              "    <div class=\"colab-df-container\">\n",
              "      <div>\n",
              "<style scoped>\n",
              "    .dataframe tbody tr th:only-of-type {\n",
              "        vertical-align: middle;\n",
              "    }\n",
              "\n",
              "    .dataframe tbody tr th {\n",
              "        vertical-align: top;\n",
              "    }\n",
              "\n",
              "    .dataframe thead th {\n",
              "        text-align: right;\n",
              "    }\n",
              "</style>\n",
              "<table border=\"1\" class=\"dataframe\">\n",
              "  <thead>\n",
              "    <tr style=\"text-align: right;\">\n",
              "      <th></th>\n",
              "      <th>TEXT</th>\n",
              "      <th>TEXT_TOKEN</th>\n",
              "    </tr>\n",
              "  </thead>\n",
              "  <tbody>\n",
              "    <tr>\n",
              "      <th>0</th>\n",
              "      <td>agenda por um brasil justo e sustentavel</td>\n",
              "      <td>agenda brasil justo sustentavel</td>\n",
              "    </tr>\n",
              "    <tr>\n",
              "      <th>1</th>\n",
              "      <td>propostas de marina silva e do partido verde p...</td>\n",
              "      <td>propostas marina silva partido verde candidato...</td>\n",
              "    </tr>\n",
              "    <tr>\n",
              "      <th>2</th>\n",
              "      <td>as propostas foram elaboradas a partir das dir...</td>\n",
              "      <td>propostas elaboradas diretrizes programa gover...</td>\n",
              "    </tr>\n",
              "    <tr>\n",
              "      <th>3</th>\n",
              "      <td>transparencia e etica</td>\n",
              "      <td>transparencia etica</td>\n",
              "    </tr>\n",
              "    <tr>\n",
              "      <th>4</th>\n",
              "      <td>nao instituicao de qualquer mecanismo de tutel...</td>\n",
              "      <td>instituicao mecanismo tutela controle liberdad...</td>\n",
              "    </tr>\n",
              "    <tr>\n",
              "      <th>...</th>\n",
              "      <td>...</td>\n",
              "      <td>...</td>\n",
              "    </tr>\n",
              "    <tr>\n",
              "      <th>92036</th>\n",
              "      <td>e isto so e possivel se os custos de \"empregab...</td>\n",
              "      <td>custos empregabilidade salarios restricoes leg...</td>\n",
              "    </tr>\n",
              "    <tr>\n",
              "      <th>92037</th>\n",
              "      <td>5.a flexibilizacao dos salarios pela aplicacao...</td>\n",
              "      <td>flexibilizacao salarios aplicacao maxima salar...</td>\n",
              "    </tr>\n",
              "    <tr>\n",
              "      <th>92038</th>\n",
              "      <td>6.alteracao dos horarios de trabalho especialm...</td>\n",
              "      <td>alteracao horarios trabalho especialmente resp...</td>\n",
              "    </tr>\n",
              "    <tr>\n",
              "      <th>92039</th>\n",
              "      <td>7.fixacao de uma idade a partir de qual a refo...</td>\n",
              "      <td>fixacao idade reforma torne facultativa obriga...</td>\n",
              "    </tr>\n",
              "    <tr>\n",
              "      <th>92040</th>\n",
              "      <td>8.a legislacao devera equiparar os trabalhador...</td>\n",
              "      <td>legislacao equiparar trabalhadores sector publ...</td>\n",
              "    </tr>\n",
              "  </tbody>\n",
              "</table>\n",
              "<p>92041 rows × 2 columns</p>\n",
              "</div>\n",
              "      <button class=\"colab-df-convert\" onclick=\"convertToInteractive('df-a8426391-0fc1-46e0-9cf8-b66b8961e59e')\"\n",
              "              title=\"Convert this dataframe to an interactive table.\"\n",
              "              style=\"display:none;\">\n",
              "        \n",
              "  <svg xmlns=\"http://www.w3.org/2000/svg\" height=\"24px\"viewBox=\"0 0 24 24\"\n",
              "       width=\"24px\">\n",
              "    <path d=\"M0 0h24v24H0V0z\" fill=\"none\"/>\n",
              "    <path d=\"M18.56 5.44l.94 2.06.94-2.06 2.06-.94-2.06-.94-.94-2.06-.94 2.06-2.06.94zm-11 1L8.5 8.5l.94-2.06 2.06-.94-2.06-.94L8.5 2.5l-.94 2.06-2.06.94zm10 10l.94 2.06.94-2.06 2.06-.94-2.06-.94-.94-2.06-.94 2.06-2.06.94z\"/><path d=\"M17.41 7.96l-1.37-1.37c-.4-.4-.92-.59-1.43-.59-.52 0-1.04.2-1.43.59L10.3 9.45l-7.72 7.72c-.78.78-.78 2.05 0 2.83L4 21.41c.39.39.9.59 1.41.59.51 0 1.02-.2 1.41-.59l7.78-7.78 2.81-2.81c.8-.78.8-2.07 0-2.86zM5.41 20L4 18.59l7.72-7.72 1.47 1.35L5.41 20z\"/>\n",
              "  </svg>\n",
              "      </button>\n",
              "      \n",
              "  <style>\n",
              "    .colab-df-container {\n",
              "      display:flex;\n",
              "      flex-wrap:wrap;\n",
              "      gap: 12px;\n",
              "    }\n",
              "\n",
              "    .colab-df-convert {\n",
              "      background-color: #E8F0FE;\n",
              "      border: none;\n",
              "      border-radius: 50%;\n",
              "      cursor: pointer;\n",
              "      display: none;\n",
              "      fill: #1967D2;\n",
              "      height: 32px;\n",
              "      padding: 0 0 0 0;\n",
              "      width: 32px;\n",
              "    }\n",
              "\n",
              "    .colab-df-convert:hover {\n",
              "      background-color: #E2EBFA;\n",
              "      box-shadow: 0px 1px 2px rgba(60, 64, 67, 0.3), 0px 1px 3px 1px rgba(60, 64, 67, 0.15);\n",
              "      fill: #174EA6;\n",
              "    }\n",
              "\n",
              "    [theme=dark] .colab-df-convert {\n",
              "      background-color: #3B4455;\n",
              "      fill: #D2E3FC;\n",
              "    }\n",
              "\n",
              "    [theme=dark] .colab-df-convert:hover {\n",
              "      background-color: #434B5C;\n",
              "      box-shadow: 0px 1px 3px 1px rgba(0, 0, 0, 0.15);\n",
              "      filter: drop-shadow(0px 1px 2px rgba(0, 0, 0, 0.3));\n",
              "      fill: #FFFFFF;\n",
              "    }\n",
              "  </style>\n",
              "\n",
              "      <script>\n",
              "        const buttonEl =\n",
              "          document.querySelector('#df-a8426391-0fc1-46e0-9cf8-b66b8961e59e button.colab-df-convert');\n",
              "        buttonEl.style.display =\n",
              "          google.colab.kernel.accessAllowed ? 'block' : 'none';\n",
              "\n",
              "        async function convertToInteractive(key) {\n",
              "          const element = document.querySelector('#df-a8426391-0fc1-46e0-9cf8-b66b8961e59e');\n",
              "          const dataTable =\n",
              "            await google.colab.kernel.invokeFunction('convertToInteractive',\n",
              "                                                     [key], {});\n",
              "          if (!dataTable) return;\n",
              "\n",
              "          const docLinkHtml = 'Like what you see? Visit the ' +\n",
              "            '<a target=\"_blank\" href=https://colab.research.google.com/notebooks/data_table.ipynb>data table notebook</a>'\n",
              "            + ' to learn more about interactive tables.';\n",
              "          element.innerHTML = '';\n",
              "          dataTable['output_type'] = 'display_data';\n",
              "          await google.colab.output.renderOutput(dataTable, element);\n",
              "          const docLink = document.createElement('div');\n",
              "          docLink.innerHTML = docLinkHtml;\n",
              "          element.appendChild(docLink);\n",
              "        }\n",
              "      </script>\n",
              "    </div>\n",
              "  </div>\n",
              "  "
            ]
          },
          "metadata": {},
          "execution_count": 11
        }
      ]
    },
    {
      "cell_type": "markdown",
      "source": [
        "## Lematização"
      ],
      "metadata": {
        "id": "PpU0a3SiSRP6"
      }
    },
    {
      "cell_type": "code",
      "source": [
        "nlp = spacy.load('pt_core_news_sm', disable=['tagger', 'parser', 'ner'])\n",
        "nlp.add_pipe('sentencizer')"
      ],
      "metadata": {
        "colab": {
          "base_uri": "https://localhost:8080/"
        },
        "id": "95XO9ExgSXhp",
        "outputId": "b5e4834b-5bae-4dba-d07c-12a7e65163ea"
      },
      "execution_count": null,
      "outputs": [
        {
          "output_type": "execute_result",
          "data": {
            "text/plain": [
              "<spacy.pipeline.sentencizer.Sentencizer at 0x7f1302c709b0>"
            ]
          },
          "metadata": {},
          "execution_count": 12
        }
      ]
    },
    {
      "cell_type": "code",
      "source": [
        "from joblib import Parallel, delayed\n",
        "\n",
        "def chunker(iterable, total_length, chunksize):\n",
        "    return (iterable[pos: pos + chunksize] for pos in range(0, total_length, chunksize))\n",
        "\n",
        "def flatten(list_of_lists):\n",
        "    return [item for sublist in list_of_lists for item in sublist]\n",
        "\n",
        "def remove_stopwords(doc):\n",
        "    corpus = [unidecode(token.lemma_) for token in doc if (token.text not in stopwords_set) and (token.pos_ != 'PROPN')]\n",
        "    return corpus\n",
        "\n",
        "def process_chunk(texts):\n",
        "    preproc_pipe = []\n",
        "    for doc in nlp.pipe(texts, batch_size=25):\n",
        "        preproc_pipe.append(remove_stopwords(doc))\n",
        "    return preproc_pipe\n",
        "\n",
        "def preprocess_parallel(texts, chunksize=1000):\n",
        "    executor = Parallel(n_jobs=2, backend='multiprocessing', prefer=\"processes\")\n",
        "    do = delayed(process_chunk)\n",
        "    tasks = (do(chunk) for chunk in chunker(texts, len(raw_sentences), chunksize=chunksize))\n",
        "    result = executor(tasks)\n",
        "    return flatten(result)\n",
        "\n",
        "t = time.time()\n",
        "\n",
        "raw_sentences['TEXT_LEMMA'] = preprocess_parallel(raw_sentences['TEXT_CLEAN'])\n",
        "\n",
        "print(f'Tempo de processamento lemmatização: {round((time.time() - t) / 60, 2)} mins')"
      ],
      "metadata": {
        "colab": {
          "base_uri": "https://localhost:8080/"
        },
        "id": "8e9wLtjnSXU8",
        "outputId": "d3932f44-d464-472c-c3f3-bdbd5636d698"
      },
      "execution_count": null,
      "outputs": [
        {
          "output_type": "stream",
          "name": "stdout",
          "text": [
            "Tempo de processamento lemmatização: 1.29 mins\n"
          ]
        }
      ]
    },
    {
      "cell_type": "code",
      "source": [
        "raw_sentences['TEXT_LEMMA'] = raw_sentences['TEXT_LEMMA'].apply(lambda x: ' '.join(x))\n",
        "raw_sentences[['TEXT', 'TEXT_TOKEN', 'TEXT_LEMMA']]"
      ],
      "metadata": {
        "colab": {
          "base_uri": "https://localhost:8080/",
          "height": 424
        },
        "id": "MSApDSdVTVAK",
        "outputId": "d15d878d-fa38-4144-b655-e81e8996a6da"
      },
      "execution_count": null,
      "outputs": [
        {
          "output_type": "execute_result",
          "data": {
            "text/plain": [
              "                                                    TEXT  \\\n",
              "0               agenda por um brasil justo e sustentavel   \n",
              "1      propostas de marina silva e do partido verde p...   \n",
              "2      as propostas foram elaboradas a partir das dir...   \n",
              "3                                  transparencia e etica   \n",
              "4      nao instituicao de qualquer mecanismo de tutel...   \n",
              "...                                                  ...   \n",
              "92036  e isto so e possivel se os custos de \"empregab...   \n",
              "92037  5.a flexibilizacao dos salarios pela aplicacao...   \n",
              "92038  6.alteracao dos horarios de trabalho especialm...   \n",
              "92039  7.fixacao de uma idade a partir de qual a refo...   \n",
              "92040  8.a legislacao devera equiparar os trabalhador...   \n",
              "\n",
              "                                              TEXT_TOKEN  \\\n",
              "0                        agenda brasil justo sustentavel   \n",
              "1      propostas marina silva partido verde candidato...   \n",
              "2      propostas elaboradas diretrizes programa gover...   \n",
              "3                                    transparencia etica   \n",
              "4      instituicao mecanismo tutela controle liberdad...   \n",
              "...                                                  ...   \n",
              "92036  custos empregabilidade salarios restricoes leg...   \n",
              "92037  flexibilizacao salarios aplicacao maxima salar...   \n",
              "92038  alteracao horarios trabalho especialmente resp...   \n",
              "92039  fixacao idade reforma torne facultativa obriga...   \n",
              "92040  legislacao equiparar trabalhadores sector publ...   \n",
              "\n",
              "                                              TEXT_LEMMA  \n",
              "0                             agendar justar sustentavel  \n",
              "1      proposto partir ver candidato turno campanha p...  \n",
              "2      proposto elaborar diretrizes programar governa...  \n",
              "3                                    transparencia etica  \n",
              "4      instituicao mecanismo tutelar controlo liberda...  \n",
              "...                                                  ...  \n",
              "92036  custo empregabilidade salarios restricoes lega...  \n",
              "92037  flexibilizacao salarios aplicacao maxima salar...  \n",
              "92038  alteracao horarios trabalhar especialmente res...  \n",
              "92039  fixacao idade reformar tornar facultativo obri...  \n",
              "92040  legislacao equiparar trabalhador sector public...  \n",
              "\n",
              "[92041 rows x 3 columns]"
            ],
            "text/html": [
              "\n",
              "  <div id=\"df-1536b2ef-877d-4308-873b-7ae51b623c51\">\n",
              "    <div class=\"colab-df-container\">\n",
              "      <div>\n",
              "<style scoped>\n",
              "    .dataframe tbody tr th:only-of-type {\n",
              "        vertical-align: middle;\n",
              "    }\n",
              "\n",
              "    .dataframe tbody tr th {\n",
              "        vertical-align: top;\n",
              "    }\n",
              "\n",
              "    .dataframe thead th {\n",
              "        text-align: right;\n",
              "    }\n",
              "</style>\n",
              "<table border=\"1\" class=\"dataframe\">\n",
              "  <thead>\n",
              "    <tr style=\"text-align: right;\">\n",
              "      <th></th>\n",
              "      <th>TEXT</th>\n",
              "      <th>TEXT_TOKEN</th>\n",
              "      <th>TEXT_LEMMA</th>\n",
              "    </tr>\n",
              "  </thead>\n",
              "  <tbody>\n",
              "    <tr>\n",
              "      <th>0</th>\n",
              "      <td>agenda por um brasil justo e sustentavel</td>\n",
              "      <td>agenda brasil justo sustentavel</td>\n",
              "      <td>agendar justar sustentavel</td>\n",
              "    </tr>\n",
              "    <tr>\n",
              "      <th>1</th>\n",
              "      <td>propostas de marina silva e do partido verde p...</td>\n",
              "      <td>propostas marina silva partido verde candidato...</td>\n",
              "      <td>proposto partir ver candidato turno campanha p...</td>\n",
              "    </tr>\n",
              "    <tr>\n",
              "      <th>2</th>\n",
              "      <td>as propostas foram elaboradas a partir das dir...</td>\n",
              "      <td>propostas elaboradas diretrizes programa gover...</td>\n",
              "      <td>proposto elaborar diretrizes programar governa...</td>\n",
              "    </tr>\n",
              "    <tr>\n",
              "      <th>3</th>\n",
              "      <td>transparencia e etica</td>\n",
              "      <td>transparencia etica</td>\n",
              "      <td>transparencia etica</td>\n",
              "    </tr>\n",
              "    <tr>\n",
              "      <th>4</th>\n",
              "      <td>nao instituicao de qualquer mecanismo de tutel...</td>\n",
              "      <td>instituicao mecanismo tutela controle liberdad...</td>\n",
              "      <td>instituicao mecanismo tutelar controlo liberda...</td>\n",
              "    </tr>\n",
              "    <tr>\n",
              "      <th>...</th>\n",
              "      <td>...</td>\n",
              "      <td>...</td>\n",
              "      <td>...</td>\n",
              "    </tr>\n",
              "    <tr>\n",
              "      <th>92036</th>\n",
              "      <td>e isto so e possivel se os custos de \"empregab...</td>\n",
              "      <td>custos empregabilidade salarios restricoes leg...</td>\n",
              "      <td>custo empregabilidade salarios restricoes lega...</td>\n",
              "    </tr>\n",
              "    <tr>\n",
              "      <th>92037</th>\n",
              "      <td>5.a flexibilizacao dos salarios pela aplicacao...</td>\n",
              "      <td>flexibilizacao salarios aplicacao maxima salar...</td>\n",
              "      <td>flexibilizacao salarios aplicacao maxima salar...</td>\n",
              "    </tr>\n",
              "    <tr>\n",
              "      <th>92038</th>\n",
              "      <td>6.alteracao dos horarios de trabalho especialm...</td>\n",
              "      <td>alteracao horarios trabalho especialmente resp...</td>\n",
              "      <td>alteracao horarios trabalhar especialmente res...</td>\n",
              "    </tr>\n",
              "    <tr>\n",
              "      <th>92039</th>\n",
              "      <td>7.fixacao de uma idade a partir de qual a refo...</td>\n",
              "      <td>fixacao idade reforma torne facultativa obriga...</td>\n",
              "      <td>fixacao idade reformar tornar facultativo obri...</td>\n",
              "    </tr>\n",
              "    <tr>\n",
              "      <th>92040</th>\n",
              "      <td>8.a legislacao devera equiparar os trabalhador...</td>\n",
              "      <td>legislacao equiparar trabalhadores sector publ...</td>\n",
              "      <td>legislacao equiparar trabalhador sector public...</td>\n",
              "    </tr>\n",
              "  </tbody>\n",
              "</table>\n",
              "<p>92041 rows × 3 columns</p>\n",
              "</div>\n",
              "      <button class=\"colab-df-convert\" onclick=\"convertToInteractive('df-1536b2ef-877d-4308-873b-7ae51b623c51')\"\n",
              "              title=\"Convert this dataframe to an interactive table.\"\n",
              "              style=\"display:none;\">\n",
              "        \n",
              "  <svg xmlns=\"http://www.w3.org/2000/svg\" height=\"24px\"viewBox=\"0 0 24 24\"\n",
              "       width=\"24px\">\n",
              "    <path d=\"M0 0h24v24H0V0z\" fill=\"none\"/>\n",
              "    <path d=\"M18.56 5.44l.94 2.06.94-2.06 2.06-.94-2.06-.94-.94-2.06-.94 2.06-2.06.94zm-11 1L8.5 8.5l.94-2.06 2.06-.94-2.06-.94L8.5 2.5l-.94 2.06-2.06.94zm10 10l.94 2.06.94-2.06 2.06-.94-2.06-.94-.94-2.06-.94 2.06-2.06.94z\"/><path d=\"M17.41 7.96l-1.37-1.37c-.4-.4-.92-.59-1.43-.59-.52 0-1.04.2-1.43.59L10.3 9.45l-7.72 7.72c-.78.78-.78 2.05 0 2.83L4 21.41c.39.39.9.59 1.41.59.51 0 1.02-.2 1.41-.59l7.78-7.78 2.81-2.81c.8-.78.8-2.07 0-2.86zM5.41 20L4 18.59l7.72-7.72 1.47 1.35L5.41 20z\"/>\n",
              "  </svg>\n",
              "      </button>\n",
              "      \n",
              "  <style>\n",
              "    .colab-df-container {\n",
              "      display:flex;\n",
              "      flex-wrap:wrap;\n",
              "      gap: 12px;\n",
              "    }\n",
              "\n",
              "    .colab-df-convert {\n",
              "      background-color: #E8F0FE;\n",
              "      border: none;\n",
              "      border-radius: 50%;\n",
              "      cursor: pointer;\n",
              "      display: none;\n",
              "      fill: #1967D2;\n",
              "      height: 32px;\n",
              "      padding: 0 0 0 0;\n",
              "      width: 32px;\n",
              "    }\n",
              "\n",
              "    .colab-df-convert:hover {\n",
              "      background-color: #E2EBFA;\n",
              "      box-shadow: 0px 1px 2px rgba(60, 64, 67, 0.3), 0px 1px 3px 1px rgba(60, 64, 67, 0.15);\n",
              "      fill: #174EA6;\n",
              "    }\n",
              "\n",
              "    [theme=dark] .colab-df-convert {\n",
              "      background-color: #3B4455;\n",
              "      fill: #D2E3FC;\n",
              "    }\n",
              "\n",
              "    [theme=dark] .colab-df-convert:hover {\n",
              "      background-color: #434B5C;\n",
              "      box-shadow: 0px 1px 3px 1px rgba(0, 0, 0, 0.15);\n",
              "      filter: drop-shadow(0px 1px 2px rgba(0, 0, 0, 0.3));\n",
              "      fill: #FFFFFF;\n",
              "    }\n",
              "  </style>\n",
              "\n",
              "      <script>\n",
              "        const buttonEl =\n",
              "          document.querySelector('#df-1536b2ef-877d-4308-873b-7ae51b623c51 button.colab-df-convert');\n",
              "        buttonEl.style.display =\n",
              "          google.colab.kernel.accessAllowed ? 'block' : 'none';\n",
              "\n",
              "        async function convertToInteractive(key) {\n",
              "          const element = document.querySelector('#df-1536b2ef-877d-4308-873b-7ae51b623c51');\n",
              "          const dataTable =\n",
              "            await google.colab.kernel.invokeFunction('convertToInteractive',\n",
              "                                                     [key], {});\n",
              "          if (!dataTable) return;\n",
              "\n",
              "          const docLinkHtml = 'Like what you see? Visit the ' +\n",
              "            '<a target=\"_blank\" href=https://colab.research.google.com/notebooks/data_table.ipynb>data table notebook</a>'\n",
              "            + ' to learn more about interactive tables.';\n",
              "          element.innerHTML = '';\n",
              "          dataTable['output_type'] = 'display_data';\n",
              "          await google.colab.output.renderOutput(dataTable, element);\n",
              "          const docLink = document.createElement('div');\n",
              "          docLink.innerHTML = docLinkHtml;\n",
              "          element.appendChild(docLink);\n",
              "        }\n",
              "      </script>\n",
              "    </div>\n",
              "  </div>\n",
              "  "
            ]
          },
          "metadata": {},
          "execution_count": 14
        }
      ]
    },
    {
      "cell_type": "code",
      "source": [
        "index = 1\n",
        "print(raw_sentences['TEXT'].iat[index])\n",
        "print(raw_sentences['TEXT_TOKEN'].iat[index])\n",
        "print(raw_sentences['TEXT_LEMMA'].iat[index])"
      ],
      "metadata": {
        "colab": {
          "base_uri": "https://localhost:8080/"
        },
        "id": "Wc25lcdKSsin",
        "outputId": "00dd956b-2bfd-446c-9b85-10e75531e980"
      },
      "execution_count": null,
      "outputs": [
        {
          "output_type": "stream",
          "name": "stdout",
          "text": [
            "propostas de marina silva e do partido verde para os candidatos ao segundo turno da campanha presidencial buscando compromissos programaticos para um brasil justo e sustentavel, a construcao da governabilidade com base em principios e valores eticos.\n",
            "propostas marina silva partido verde candidatos turno campanha presidencial buscando compromissos programaticos brasil justo sustentavel construcao governabilidade base principios valores eticos\n",
            "proposto partir ver candidato turno campanha presidencial buscar compromisso programaticos justar sustentavel construcao governabilidade base principios valorar eticos\n"
          ]
        }
      ]
    },
    {
      "cell_type": "markdown",
      "source": [
        "Remove sentenças que ficaram vazias após a limpeza"
      ],
      "metadata": {
        "id": "BaS1Spd8MOLW"
      }
    },
    {
      "cell_type": "code",
      "source": [
        "raw_sentences[raw_sentences['TEXT_LEMMA'] == ''][['TEXT', 'TEXT_CLEAN', 'TEXT_TOKEN', 'TEXT_LEMMA']]"
      ],
      "metadata": {
        "colab": {
          "base_uri": "https://localhost:8080/",
          "height": 424
        },
        "id": "DblhLL8jVOoY",
        "outputId": "7fa2d091-6636-4edb-c7d6-b5f2ce28dd28"
      },
      "execution_count": null,
      "outputs": [
        {
          "output_type": "execute_result",
          "data": {
            "text/plain": [
              "                                TEXT              TEXT_CLEAN TEXT_TOKEN  \\\n",
              "271                 para nos tambem.         para nos tambem              \n",
              "500       e o que mais se ve por ai.            que mais por              \n",
              "585                        do estado                  estado              \n",
              "680                       para nada.               para nada              \n",
              "730                         ha mais.                    mais              \n",
              "...                              ...                     ...        ...   \n",
              "90777  o estado tem de dar o exemplo  estado tem dar exemplo              \n",
              "91012                   onde estamos            onde estamos              \n",
              "91077       e ainda bem que assim e.     ainda bem que assim              \n",
              "91097                 e por ai fora.                por fora              \n",
              "91101                       ate ver.                 ate ver              \n",
              "\n",
              "      TEXT_LEMMA  \n",
              "271               \n",
              "500               \n",
              "585               \n",
              "680               \n",
              "730               \n",
              "...          ...  \n",
              "90777             \n",
              "91012             \n",
              "91077             \n",
              "91097             \n",
              "91101             \n",
              "\n",
              "[753 rows x 4 columns]"
            ],
            "text/html": [
              "\n",
              "  <div id=\"df-827c1eb9-37ca-4054-9ea9-e6b257569eba\">\n",
              "    <div class=\"colab-df-container\">\n",
              "      <div>\n",
              "<style scoped>\n",
              "    .dataframe tbody tr th:only-of-type {\n",
              "        vertical-align: middle;\n",
              "    }\n",
              "\n",
              "    .dataframe tbody tr th {\n",
              "        vertical-align: top;\n",
              "    }\n",
              "\n",
              "    .dataframe thead th {\n",
              "        text-align: right;\n",
              "    }\n",
              "</style>\n",
              "<table border=\"1\" class=\"dataframe\">\n",
              "  <thead>\n",
              "    <tr style=\"text-align: right;\">\n",
              "      <th></th>\n",
              "      <th>TEXT</th>\n",
              "      <th>TEXT_CLEAN</th>\n",
              "      <th>TEXT_TOKEN</th>\n",
              "      <th>TEXT_LEMMA</th>\n",
              "    </tr>\n",
              "  </thead>\n",
              "  <tbody>\n",
              "    <tr>\n",
              "      <th>271</th>\n",
              "      <td>para nos tambem.</td>\n",
              "      <td>para nos tambem</td>\n",
              "      <td></td>\n",
              "      <td></td>\n",
              "    </tr>\n",
              "    <tr>\n",
              "      <th>500</th>\n",
              "      <td>e o que mais se ve por ai.</td>\n",
              "      <td>que mais por</td>\n",
              "      <td></td>\n",
              "      <td></td>\n",
              "    </tr>\n",
              "    <tr>\n",
              "      <th>585</th>\n",
              "      <td>do estado</td>\n",
              "      <td>estado</td>\n",
              "      <td></td>\n",
              "      <td></td>\n",
              "    </tr>\n",
              "    <tr>\n",
              "      <th>680</th>\n",
              "      <td>para nada.</td>\n",
              "      <td>para nada</td>\n",
              "      <td></td>\n",
              "      <td></td>\n",
              "    </tr>\n",
              "    <tr>\n",
              "      <th>730</th>\n",
              "      <td>ha mais.</td>\n",
              "      <td>mais</td>\n",
              "      <td></td>\n",
              "      <td></td>\n",
              "    </tr>\n",
              "    <tr>\n",
              "      <th>...</th>\n",
              "      <td>...</td>\n",
              "      <td>...</td>\n",
              "      <td>...</td>\n",
              "      <td>...</td>\n",
              "    </tr>\n",
              "    <tr>\n",
              "      <th>90777</th>\n",
              "      <td>o estado tem de dar o exemplo</td>\n",
              "      <td>estado tem dar exemplo</td>\n",
              "      <td></td>\n",
              "      <td></td>\n",
              "    </tr>\n",
              "    <tr>\n",
              "      <th>91012</th>\n",
              "      <td>onde estamos</td>\n",
              "      <td>onde estamos</td>\n",
              "      <td></td>\n",
              "      <td></td>\n",
              "    </tr>\n",
              "    <tr>\n",
              "      <th>91077</th>\n",
              "      <td>e ainda bem que assim e.</td>\n",
              "      <td>ainda bem que assim</td>\n",
              "      <td></td>\n",
              "      <td></td>\n",
              "    </tr>\n",
              "    <tr>\n",
              "      <th>91097</th>\n",
              "      <td>e por ai fora.</td>\n",
              "      <td>por fora</td>\n",
              "      <td></td>\n",
              "      <td></td>\n",
              "    </tr>\n",
              "    <tr>\n",
              "      <th>91101</th>\n",
              "      <td>ate ver.</td>\n",
              "      <td>ate ver</td>\n",
              "      <td></td>\n",
              "      <td></td>\n",
              "    </tr>\n",
              "  </tbody>\n",
              "</table>\n",
              "<p>753 rows × 4 columns</p>\n",
              "</div>\n",
              "      <button class=\"colab-df-convert\" onclick=\"convertToInteractive('df-827c1eb9-37ca-4054-9ea9-e6b257569eba')\"\n",
              "              title=\"Convert this dataframe to an interactive table.\"\n",
              "              style=\"display:none;\">\n",
              "        \n",
              "  <svg xmlns=\"http://www.w3.org/2000/svg\" height=\"24px\"viewBox=\"0 0 24 24\"\n",
              "       width=\"24px\">\n",
              "    <path d=\"M0 0h24v24H0V0z\" fill=\"none\"/>\n",
              "    <path d=\"M18.56 5.44l.94 2.06.94-2.06 2.06-.94-2.06-.94-.94-2.06-.94 2.06-2.06.94zm-11 1L8.5 8.5l.94-2.06 2.06-.94-2.06-.94L8.5 2.5l-.94 2.06-2.06.94zm10 10l.94 2.06.94-2.06 2.06-.94-2.06-.94-.94-2.06-.94 2.06-2.06.94z\"/><path d=\"M17.41 7.96l-1.37-1.37c-.4-.4-.92-.59-1.43-.59-.52 0-1.04.2-1.43.59L10.3 9.45l-7.72 7.72c-.78.78-.78 2.05 0 2.83L4 21.41c.39.39.9.59 1.41.59.51 0 1.02-.2 1.41-.59l7.78-7.78 2.81-2.81c.8-.78.8-2.07 0-2.86zM5.41 20L4 18.59l7.72-7.72 1.47 1.35L5.41 20z\"/>\n",
              "  </svg>\n",
              "      </button>\n",
              "      \n",
              "  <style>\n",
              "    .colab-df-container {\n",
              "      display:flex;\n",
              "      flex-wrap:wrap;\n",
              "      gap: 12px;\n",
              "    }\n",
              "\n",
              "    .colab-df-convert {\n",
              "      background-color: #E8F0FE;\n",
              "      border: none;\n",
              "      border-radius: 50%;\n",
              "      cursor: pointer;\n",
              "      display: none;\n",
              "      fill: #1967D2;\n",
              "      height: 32px;\n",
              "      padding: 0 0 0 0;\n",
              "      width: 32px;\n",
              "    }\n",
              "\n",
              "    .colab-df-convert:hover {\n",
              "      background-color: #E2EBFA;\n",
              "      box-shadow: 0px 1px 2px rgba(60, 64, 67, 0.3), 0px 1px 3px 1px rgba(60, 64, 67, 0.15);\n",
              "      fill: #174EA6;\n",
              "    }\n",
              "\n",
              "    [theme=dark] .colab-df-convert {\n",
              "      background-color: #3B4455;\n",
              "      fill: #D2E3FC;\n",
              "    }\n",
              "\n",
              "    [theme=dark] .colab-df-convert:hover {\n",
              "      background-color: #434B5C;\n",
              "      box-shadow: 0px 1px 3px 1px rgba(0, 0, 0, 0.15);\n",
              "      filter: drop-shadow(0px 1px 2px rgba(0, 0, 0, 0.3));\n",
              "      fill: #FFFFFF;\n",
              "    }\n",
              "  </style>\n",
              "\n",
              "      <script>\n",
              "        const buttonEl =\n",
              "          document.querySelector('#df-827c1eb9-37ca-4054-9ea9-e6b257569eba button.colab-df-convert');\n",
              "        buttonEl.style.display =\n",
              "          google.colab.kernel.accessAllowed ? 'block' : 'none';\n",
              "\n",
              "        async function convertToInteractive(key) {\n",
              "          const element = document.querySelector('#df-827c1eb9-37ca-4054-9ea9-e6b257569eba');\n",
              "          const dataTable =\n",
              "            await google.colab.kernel.invokeFunction('convertToInteractive',\n",
              "                                                     [key], {});\n",
              "          if (!dataTable) return;\n",
              "\n",
              "          const docLinkHtml = 'Like what you see? Visit the ' +\n",
              "            '<a target=\"_blank\" href=https://colab.research.google.com/notebooks/data_table.ipynb>data table notebook</a>'\n",
              "            + ' to learn more about interactive tables.';\n",
              "          element.innerHTML = '';\n",
              "          dataTable['output_type'] = 'display_data';\n",
              "          await google.colab.output.renderOutput(dataTable, element);\n",
              "          const docLink = document.createElement('div');\n",
              "          docLink.innerHTML = docLinkHtml;\n",
              "          element.appendChild(docLink);\n",
              "        }\n",
              "      </script>\n",
              "    </div>\n",
              "  </div>\n",
              "  "
            ]
          },
          "metadata": {},
          "execution_count": 17
        }
      ]
    },
    {
      "cell_type": "code",
      "source": [
        "print('Número de sentenças vazias a pó a limpeza: ', len(raw_sentences[raw_sentences['TEXT_LEMMA'] == '']))\n",
        "sentences = raw_sentences[raw_sentences['TEXT_LEMMA'] != '']\n",
        "print('Número de sentenças válidas após a limpeza: ', len(sentences))"
      ],
      "metadata": {
        "colab": {
          "base_uri": "https://localhost:8080/"
        },
        "id": "9SdKIrTKKZ-J",
        "outputId": "f30750ec-255d-49f0-9bd6-085896cc42d2"
      },
      "execution_count": null,
      "outputs": [
        {
          "output_type": "stream",
          "name": "stdout",
          "text": [
            "Número de sentenças vazias a pó a limpeza:  753\n",
            "Número de sentenças válidas após a limpeza:  91288\n"
          ]
        }
      ]
    },
    {
      "cell_type": "markdown",
      "source": [
        "## Balanceamento"
      ],
      "metadata": {
        "id": "roFkUcqEYU8a"
      }
    },
    {
      "cell_type": "code",
      "source": [
        "sentences['CODE'].value_counts()"
      ],
      "metadata": {
        "colab": {
          "base_uri": "https://localhost:8080/"
        },
        "id": "4hA12G9-YUkD",
        "outputId": "4f4fa034-f4c4-42cf-dce9-c8dc00dd7da2"
      },
      "execution_count": null,
      "outputs": [
        {
          "output_type": "execute_result",
          "data": {
            "text/plain": [
              "NA       8946\n",
              "504      7860\n",
              "411      7136\n",
              "506      5248\n",
              "503      5051\n",
              "         ... \n",
              "703.2      13\n",
              "608.1       6\n",
              "305.6       2\n",
              "608.2       2\n",
              "102         1\n",
              "Name: CODE, Length: 86, dtype: int64"
            ]
          },
          "metadata": {},
          "execution_count": 20
        }
      ]
    },
    {
      "cell_type": "code",
      "source": [
        "sentences_foo = sentences.copy()"
      ],
      "metadata": {
        "id": "0Z-j0g_1qQfl"
      },
      "execution_count": null,
      "outputs": []
    },
    {
      "cell_type": "code",
      "source": [
        "def sample_target(df, target_column, min_obs):\n",
        "    classes_dist = df[target_column].value_counts().reset_index().rename(columns={\n",
        "        'index': target_column\n",
        "        , target_column: 'NUM_AMOSTRAS'\n",
        "    })\n",
        "\n",
        "    classe_outros = classes_dist[classes_dist['NUM_AMOSTRAS'] <= min_obs][target_column]\n",
        "    print(f\"Número de classes com menos de {min_obs} amostras : {len(classe_outros)}\\nNúmero de classes final: {len(classes_dist)-len(classe_outros)}\")\n",
        "\n",
        "    nome_amostra = target_column + '_SAMPLE'\n",
        "    df[nome_amostra] = df[target_column]\n",
        "    df.loc[df[nome_amostra].isin(classe_outros), nome_amostra] = \"OTHERS\"\n",
        "\n",
        "    print(df[nome_amostra].value_counts())\n",
        "\n",
        "sample_target(sentences, 'CODE', 1000)"
      ],
      "metadata": {
        "colab": {
          "base_uri": "https://localhost:8080/"
        },
        "id": "YUivz2JOofMf",
        "outputId": "edcbc837-c5fa-4a2c-a225-80ecccce9dbe"
      },
      "execution_count": null,
      "outputs": [
        {
          "output_type": "stream",
          "name": "stdout",
          "text": [
            "Número de classes com menos de 1000 amostras : 64\n",
            "Número de classes final: 22\n",
            "OTHERS    17841\n",
            "NA         8946\n",
            "504        7860\n",
            "411        7136\n",
            "506        5248\n",
            "503        5051\n",
            "303        4672\n",
            "501        3900\n",
            "502        3045\n",
            "202.1      2879\n",
            "416.2      2803\n",
            "701        2717\n",
            "410        2559\n",
            "402        2296\n",
            "605.1      2235\n",
            "703.1      2011\n",
            "403        2008\n",
            "414        1753\n",
            "301        1741\n",
            "401        1225\n",
            "304        1171\n",
            "408        1112\n",
            "305.1      1079\n",
            "Name: CODE_SAMPLE, dtype: int64\n"
          ]
        },
        {
          "output_type": "stream",
          "name": "stderr",
          "text": [
            "/usr/local/lib/python3.7/dist-packages/ipykernel_launcher.py:11: SettingWithCopyWarning: \n",
            "A value is trying to be set on a copy of a slice from a DataFrame.\n",
            "Try using .loc[row_indexer,col_indexer] = value instead\n",
            "\n",
            "See the caveats in the documentation: https://pandas.pydata.org/pandas-docs/stable/user_guide/indexing.html#returning-a-view-versus-a-copy\n",
            "  # This is added back by InteractiveShellApp.init_path()\n",
            "/usr/local/lib/python3.7/dist-packages/pandas/core/indexing.py:1817: SettingWithCopyWarning: \n",
            "A value is trying to be set on a copy of a slice from a DataFrame.\n",
            "Try using .loc[row_indexer,col_indexer] = value instead\n",
            "\n",
            "See the caveats in the documentation: https://pandas.pydata.org/pandas-docs/stable/user_guide/indexing.html#returning-a-view-versus-a-copy\n",
            "  self._setitem_single_column(loc, value, pi)\n"
          ]
        }
      ]
    },
    {
      "cell_type": "markdown",
      "source": [
        "Removendo classes com menos de 1000 sentenças e com a classe \"Uncoded\""
      ],
      "metadata": {
        "id": "oQd0G3inu-vK"
      }
    },
    {
      "cell_type": "code",
      "source": [
        "sentences = sentences[~sentences['CODE_SAMPLE'].isin(['OTHERS', 'NA'])]\n",
        "sentences.info()"
      ],
      "metadata": {
        "colab": {
          "base_uri": "https://localhost:8080/"
        },
        "id": "scSs8nJquQNa",
        "outputId": "adb389f3-85b1-4e9e-d1a1-f756258c078e"
      },
      "execution_count": null,
      "outputs": [
        {
          "output_type": "stream",
          "name": "stdout",
          "text": [
            "<class 'pandas.core.frame.DataFrame'>\n",
            "Int64Index: 64501 entries, 5 to 92040\n",
            "Data columns (total 10 columns):\n",
            " #   Column       Non-Null Count  Dtype \n",
            "---  ------       --------------  ----- \n",
            " 0   MANIFEST_ID  64501 non-null  object\n",
            " 1   TEXT         64501 non-null  object\n",
            " 2   DOMAIN_CODE  64501 non-null  int64 \n",
            " 3   DOMAIN_NAME  64501 non-null  object\n",
            " 4   CODE         64501 non-null  object\n",
            " 5   LABEL        64501 non-null  object\n",
            " 6   TEXT_CLEAN   64501 non-null  object\n",
            " 7   TEXT_TOKEN   64501 non-null  object\n",
            " 8   TEXT_LEMMA   64501 non-null  object\n",
            " 9   CODE_SAMPLE  64501 non-null  object\n",
            "dtypes: int64(1), object(9)\n",
            "memory usage: 5.4+ MB\n"
          ]
        }
      ]
    },
    {
      "cell_type": "markdown",
      "source": [
        "## Análise descritiva"
      ],
      "metadata": {
        "id": "fNBOae98STUs"
      }
    },
    {
      "cell_type": "code",
      "metadata": {
        "colab": {
          "base_uri": "https://localhost:8080/",
          "height": 560
        },
        "id": "EgS8FpJ3ZTCJ",
        "outputId": "8352810c-bf44-4ff1-a089-3e9546bf0e1d"
      },
      "source": [
        "sentences['WORD_FREQ'] = sentences['TEXT_TOKEN'].apply(lambda x : len(x.split()))\n",
        "print(f\"Estatísticas descritivas para o texto limpo: \\n{sentences['WORD_FREQ'].describe()}\")\n",
        "sentences['WORD_FREQ'].hist(bins = 15)"
      ],
      "execution_count": null,
      "outputs": [
        {
          "output_type": "stream",
          "name": "stdout",
          "text": [
            "Estatísticas descritivas para o texto limpo: \n",
            "count    64501.000000\n",
            "mean        10.858219\n",
            "std          6.585926\n",
            "min          1.000000\n",
            "25%          6.000000\n",
            "50%         10.000000\n",
            "75%         14.000000\n",
            "max        152.000000\n",
            "Name: WORD_FREQ, dtype: float64\n"
          ]
        },
        {
          "output_type": "stream",
          "name": "stderr",
          "text": [
            "/usr/local/lib/python3.7/dist-packages/ipykernel_launcher.py:1: SettingWithCopyWarning: \n",
            "A value is trying to be set on a copy of a slice from a DataFrame.\n",
            "Try using .loc[row_indexer,col_indexer] = value instead\n",
            "\n",
            "See the caveats in the documentation: https://pandas.pydata.org/pandas-docs/stable/user_guide/indexing.html#returning-a-view-versus-a-copy\n",
            "  \"\"\"Entry point for launching an IPython kernel.\n"
          ]
        },
        {
          "output_type": "execute_result",
          "data": {
            "text/plain": [
              "<matplotlib.axes._subplots.AxesSubplot at 0x7f12f92f7b50>"
            ]
          },
          "metadata": {},
          "execution_count": 34
        },
        {
          "output_type": "display_data",
          "data": {
            "text/plain": [
              "<Figure size 432x288 with 1 Axes>"
            ],
            "image/png": "[encoded data removed]"
          },
          "metadata": {
            "needs_background": "light"
          }
        }
      ]
    },
    {
      "cell_type": "code",
      "source": [
        "sentences['WORD_FREQ'].quantile(q=0.99)"
      ],
      "metadata": {
        "colab": {
          "base_uri": "https://localhost:8080/"
        },
        "id": "ckXwLGakMg4L",
        "outputId": "d3783bcb-396f-4eda-debc-f72bfd2d189c"
      },
      "execution_count": null,
      "outputs": [
        {
          "output_type": "execute_result",
          "data": {
            "text/plain": [
              "31.0"
            ]
          },
          "metadata": {},
          "execution_count": 35
        }
      ]
    },
    {
      "cell_type": "code",
      "metadata": {
        "colab": {
          "base_uri": "https://localhost:8080/"
        },
        "id": "orx1kNiKaeS_",
        "outputId": "402d053b-dd46-4e09-a2e0-2d668a772232"
      },
      "source": [
        "faixa_corte = sentences['WORD_FREQ'].quantile(q=0.99)\n",
        "sentences[sentences['WORD_FREQ'] > faixa_corte]['CODE'].value_counts()"
      ],
      "execution_count": null,
      "outputs": [
        {
          "output_type": "execute_result",
          "data": {
            "text/plain": [
              "504      73\n",
              "501      60\n",
              "411      49\n",
              "506      49\n",
              "503      36\n",
              "416.2    33\n",
              "502      32\n",
              "202.1    31\n",
              "303      28\n",
              "403      27\n",
              "402      23\n",
              "701      23\n",
              "605.1    22\n",
              "410      20\n",
              "301      15\n",
              "408      13\n",
              "414      13\n",
              "703.1    12\n",
              "304      10\n",
              "305.1     7\n",
              "401       6\n",
              "Name: CODE, dtype: int64"
            ]
          },
          "metadata": {},
          "execution_count": 36
        }
      ]
    },
    {
      "cell_type": "code",
      "metadata": {
        "colab": {
          "base_uri": "https://localhost:8080/",
          "height": 456
        },
        "id": "irFN_mM3ctks",
        "outputId": "1c50bc9e-5fa0-4ce8-add1-56dd64ae3c1d"
      },
      "source": [
        "clean_sentences = sentences[sentences['WORD_FREQ'] <= faixa_corte]\n",
        "print(f\"Estatísticas descritivas para o texto limpo: \\n{clean_sentences['WORD_FREQ'].describe()}\")\n",
        "clean_sentences['WORD_FREQ'].hist(bins = 15)"
      ],
      "execution_count": null,
      "outputs": [
        {
          "output_type": "stream",
          "name": "stdout",
          "text": [
            "Estatísticas descritivas para o texto limpo: \n",
            "count    63919.000000\n",
            "mean        10.623555\n",
            "std          6.090052\n",
            "min          1.000000\n",
            "25%          6.000000\n",
            "50%         10.000000\n",
            "75%         14.000000\n",
            "max         31.000000\n",
            "Name: WORD_FREQ, dtype: float64\n"
          ]
        },
        {
          "output_type": "execute_result",
          "data": {
            "text/plain": [
              "<matplotlib.axes._subplots.AxesSubplot at 0x7f12f932b550>"
            ]
          },
          "metadata": {},
          "execution_count": 37
        },
        {
          "output_type": "display_data",
          "data": {
            "text/plain": [
              "<Figure size 432x288 with 1 Axes>"
            ],
            "image/png": "[encoded data removed]"
          },
          "metadata": {
            "needs_background": "light"
          }
        }
      ]
    },
    {
      "cell_type": "code",
      "source": [
        "corpus_array = [doc.split() for doc in clean_sentences['TEXT_TOKEN']]\n",
        "word_frequency = defaultdict(int)\n",
        "for sentence in corpus_array:\n",
        "    for word in sentence:\n",
        "        word_frequency[word] += 1\n",
        "print(f\"Vocabulary present in corpus: {len(word_frequency)}\")\n",
        "print(\"Most frequent words in corpus:\")\n",
        "sorted(word_frequency, key=word_frequency.get, reverse=True)[:15]"
      ],
      "metadata": {
        "colab": {
          "base_uri": "https://localhost:8080/"
        },
        "id": "ObX8pab1bhEc",
        "outputId": "9f6045ed-27fd-4602-ceab-e5812ffeac6c"
      },
      "execution_count": null,
      "outputs": [
        {
          "output_type": "stream",
          "name": "stdout",
          "text": [
            "Vocabulary present in corpus: 35235\n",
            "Most frequent words in corpus:\n"
          ]
        },
        {
          "output_type": "execute_result",
          "data": {
            "text/plain": [
              "['nacional',\n",
              " 'social',\n",
              " 'desenvolvimento',\n",
              " 'politica',\n",
              " 'saude',\n",
              " 'governo',\n",
              " 'pais',\n",
              " 'servicos',\n",
              " 'recursos',\n",
              " 'trabalho',\n",
              " 'empresas',\n",
              " 'politicas',\n",
              " 'programa',\n",
              " 'ensino',\n",
              " 'anos']"
            ]
          },
          "metadata": {},
          "execution_count": 38
        }
      ]
    },
    {
      "cell_type": "code",
      "metadata": {
        "colab": {
          "base_uri": "https://localhost:8080/"
        },
        "id": "pYU9KSA0_Bbk",
        "outputId": "534983ee-148f-49b7-9480-6d702690be4b"
      },
      "source": [
        "corpus_array = [doc.split() for doc in clean_sentences['TEXT_LEMMA']]\n",
        "word_frequency = defaultdict(int)\n",
        "for sentence in corpus_array:\n",
        "    for word in sentence:\n",
        "        word_frequency[word] += 1\n",
        "print(f\"Vocabulary present in corpus: {len(word_frequency)}\")\n",
        "print(\"Most frequent words in corpus:\")\n",
        "sorted(word_frequency, key=word_frequency.get, reverse=True)[:15]"
      ],
      "execution_count": null,
      "outputs": [
        {
          "output_type": "stream",
          "name": "stdout",
          "text": [
            "Vocabulary present in corpus: 20671\n",
            "Most frequent words in corpus:\n"
          ]
        },
        {
          "output_type": "execute_result",
          "data": {
            "text/plain": [
              "['politicar',\n",
              " 'publicar',\n",
              " 'social',\n",
              " 'nacional',\n",
              " 'programar',\n",
              " 'desenvolvimento',\n",
              " 'garantir',\n",
              " 'saude',\n",
              " 'recurso',\n",
              " 'pai',\n",
              " 'governar',\n",
              " 'trabalhar',\n",
              " 'ano',\n",
              " 'servicos',\n",
              " 'empresar']"
            ]
          },
          "metadata": {},
          "execution_count": 39
        }
      ]
    },
    {
      "cell_type": "markdown",
      "source": [
        "## Salvar base de dados"
      ],
      "metadata": {
        "id": "w3EdV9njUYsI"
      }
    },
    {
      "cell_type": "code",
      "source": [
        "clean_sentences.info()\n",
        "clean_sentences.head()"
      ],
      "metadata": {
        "colab": {
          "base_uri": "https://localhost:8080/",
          "height": 806
        },
        "id": "H5XBAG-7OG-I",
        "outputId": "416df2de-af0a-4dcc-9418-ebb91ac902ed"
      },
      "execution_count": null,
      "outputs": [
        {
          "output_type": "stream",
          "name": "stdout",
          "text": [
            "<class 'pandas.core.frame.DataFrame'>\n",
            "Int64Index: 63919 entries, 5 to 92040\n",
            "Data columns (total 11 columns):\n",
            " #   Column       Non-Null Count  Dtype \n",
            "---  ------       --------------  ----- \n",
            " 0   MANIFEST_ID  63919 non-null  object\n",
            " 1   TEXT         63919 non-null  object\n",
            " 2   DOMAIN_CODE  63919 non-null  int64 \n",
            " 3   DOMAIN_NAME  63919 non-null  object\n",
            " 4   CODE         63919 non-null  object\n",
            " 5   LABEL        63919 non-null  object\n",
            " 6   TEXT_CLEAN   63919 non-null  object\n",
            " 7   TEXT_TOKEN   63919 non-null  object\n",
            " 8   TEXT_LEMMA   63919 non-null  object\n",
            " 9   CODE_SAMPLE  63919 non-null  object\n",
            " 10  WORD_FREQ    63919 non-null  int64 \n",
            "dtypes: int64(2), object(9)\n",
            "memory usage: 5.9+ MB\n"
          ]
        },
        {
          "output_type": "execute_result",
          "data": {
            "text/plain": [
              "      MANIFEST_ID                                               TEXT  \\\n",
              "5   180110_201010  transparencia das informacoes sobre execucao o...   \n",
              "8   180110_201010  encaminhamento ao congresso de reforma politic...   \n",
              "10  180110_201010  elevacao do investimento em educacao do setor ...   \n",
              "11  180110_201010  eliminacao do analfabetismo entre jovens de 15...   \n",
              "12  180110_201010           e erradicacao do analfabetismo ate 2018;   \n",
              "\n",
              "    DOMAIN_CODE                  DOMAIN_NAME   CODE                 LABEL  \\\n",
              "5             2        Freedom and Democracy  202.1  democracy: general +   \n",
              "8             2        Freedom and Democracy  202.1  democracy: general +   \n",
              "10            5  Welfare and Quality of Life    506           education +   \n",
              "11            5  Welfare and Quality of Life    506           education +   \n",
              "12            5  Welfare and Quality of Life    506           education +   \n",
              "\n",
              "                                           TEXT_CLEAN  \\\n",
              "5   transparencia das informacoes sobre execucao o...   \n",
              "8   encaminhamento congresso reforma politica com ...   \n",
              "10  elevacao investimento educacao setor publico p...   \n",
              "11     eliminacao analfabetismo entre jovens anos ate   \n",
              "12                      erradicacao analfabetismo ate   \n",
              "\n",
              "                                           TEXT_TOKEN  \\\n",
              "5   transparencia informacoes execucao orcamentari...   \n",
              "8   encaminhamento congresso reforma politica adoc...   \n",
              "10  elevacao investimento educacao setor publico p...   \n",
              "11               eliminacao analfabetismo jovens anos   \n",
              "12                          erradicacao analfabetismo   \n",
              "\n",
              "                                           TEXT_LEMMA CODE_SAMPLE  WORD_FREQ  \n",
              "5   transparencia informacoes orcamentaria governa...       202.1         16  \n",
              "8   encaminhamento congresso reformar politicar ad...       202.1         13  \n",
              "10  elevacao investimento educacao setor publicar ...         506         14  \n",
              "11                 eliminacao analfabetismo jovem ano         506          4  \n",
              "12                          erradicacao analfabetismo         506          2  "
            ],
            "text/html": [
              "\n",
              "  <div id=\"df-ac4ffcdf-5098-400c-91fc-136786413aae\">\n",
              "    <div class=\"colab-df-container\">\n",
              "      <div>\n",
              "<style scoped>\n",
              "    .dataframe tbody tr th:only-of-type {\n",
              "        vertical-align: middle;\n",
              "    }\n",
              "\n",
              "    .dataframe tbody tr th {\n",
              "        vertical-align: top;\n",
              "    }\n",
              "\n",
              "    .dataframe thead th {\n",
              "        text-align: right;\n",
              "    }\n",
              "</style>\n",
              "<table border=\"1\" class=\"dataframe\">\n",
              "  <thead>\n",
              "    <tr style=\"text-align: right;\">\n",
              "      <th></th>\n",
              "      <th>MANIFEST_ID</th>\n",
              "      <th>TEXT</th>\n",
              "      <th>DOMAIN_CODE</th>\n",
              "      <th>DOMAIN_NAME</th>\n",
              "      <th>CODE</th>\n",
              "      <th>LABEL</th>\n",
              "      <th>TEXT_CLEAN</th>\n",
              "      <th>TEXT_TOKEN</th>\n",
              "      <th>TEXT_LEMMA</th>\n",
              "      <th>CODE_SAMPLE</th>\n",
              "      <th>WORD_FREQ</th>\n",
              "    </tr>\n",
              "  </thead>\n",
              "  <tbody>\n",
              "    <tr>\n",
              "      <th>5</th>\n",
              "      <td>180110_201010</td>\n",
              "      <td>transparencia das informacoes sobre execucao o...</td>\n",
              "      <td>2</td>\n",
              "      <td>Freedom and Democracy</td>\n",
              "      <td>202.1</td>\n",
              "      <td>democracy: general +</td>\n",
              "      <td>transparencia das informacoes sobre execucao o...</td>\n",
              "      <td>transparencia informacoes execucao orcamentari...</td>\n",
              "      <td>transparencia informacoes orcamentaria governa...</td>\n",
              "      <td>202.1</td>\n",
              "      <td>16</td>\n",
              "    </tr>\n",
              "    <tr>\n",
              "      <th>8</th>\n",
              "      <td>180110_201010</td>\n",
              "      <td>encaminhamento ao congresso de reforma politic...</td>\n",
              "      <td>2</td>\n",
              "      <td>Freedom and Democracy</td>\n",
              "      <td>202.1</td>\n",
              "      <td>democracy: general +</td>\n",
              "      <td>encaminhamento congresso reforma politica com ...</td>\n",
              "      <td>encaminhamento congresso reforma politica adoc...</td>\n",
              "      <td>encaminhamento congresso reformar politicar ad...</td>\n",
              "      <td>202.1</td>\n",
              "      <td>13</td>\n",
              "    </tr>\n",
              "    <tr>\n",
              "      <th>10</th>\n",
              "      <td>180110_201010</td>\n",
              "      <td>elevacao do investimento em educacao do setor ...</td>\n",
              "      <td>5</td>\n",
              "      <td>Welfare and Quality of Life</td>\n",
              "      <td>506</td>\n",
              "      <td>education +</td>\n",
              "      <td>elevacao investimento educacao setor publico p...</td>\n",
              "      <td>elevacao investimento educacao setor publico p...</td>\n",
              "      <td>elevacao investimento educacao setor publicar ...</td>\n",
              "      <td>506</td>\n",
              "      <td>14</td>\n",
              "    </tr>\n",
              "    <tr>\n",
              "      <th>11</th>\n",
              "      <td>180110_201010</td>\n",
              "      <td>eliminacao do analfabetismo entre jovens de 15...</td>\n",
              "      <td>5</td>\n",
              "      <td>Welfare and Quality of Life</td>\n",
              "      <td>506</td>\n",
              "      <td>education +</td>\n",
              "      <td>eliminacao analfabetismo entre jovens anos ate</td>\n",
              "      <td>eliminacao analfabetismo jovens anos</td>\n",
              "      <td>eliminacao analfabetismo jovem ano</td>\n",
              "      <td>506</td>\n",
              "      <td>4</td>\n",
              "    </tr>\n",
              "    <tr>\n",
              "      <th>12</th>\n",
              "      <td>180110_201010</td>\n",
              "      <td>e erradicacao do analfabetismo ate 2018;</td>\n",
              "      <td>5</td>\n",
              "      <td>Welfare and Quality of Life</td>\n",
              "      <td>506</td>\n",
              "      <td>education +</td>\n",
              "      <td>erradicacao analfabetismo ate</td>\n",
              "      <td>erradicacao analfabetismo</td>\n",
              "      <td>erradicacao analfabetismo</td>\n",
              "      <td>506</td>\n",
              "      <td>2</td>\n",
              "    </tr>\n",
              "  </tbody>\n",
              "</table>\n",
              "</div>\n",
              "      <button class=\"colab-df-convert\" onclick=\"convertToInteractive('df-ac4ffcdf-5098-400c-91fc-136786413aae')\"\n",
              "              title=\"Convert this dataframe to an interactive table.\"\n",
              "              style=\"display:none;\">\n",
              "        \n",
              "  <svg xmlns=\"http://www.w3.org/2000/svg\" height=\"24px\"viewBox=\"0 0 24 24\"\n",
              "       width=\"24px\">\n",
              "    <path d=\"M0 0h24v24H0V0z\" fill=\"none\"/>\n",
              "    <path d=\"M18.56 5.44l.94 2.06.94-2.06 2.06-.94-2.06-.94-.94-2.06-.94 2.06-2.06.94zm-11 1L8.5 8.5l.94-2.06 2.06-.94-2.06-.94L8.5 2.5l-.94 2.06-2.06.94zm10 10l.94 2.06.94-2.06 2.06-.94-2.06-.94-.94-2.06-.94 2.06-2.06.94z\"/><path d=\"M17.41 7.96l-1.37-1.37c-.4-.4-.92-.59-1.43-.59-.52 0-1.04.2-1.43.59L10.3 9.45l-7.72 7.72c-.78.78-.78 2.05 0 2.83L4 21.41c.39.39.9.59 1.41.59.51 0 1.02-.2 1.41-.59l7.78-7.78 2.81-2.81c.8-.78.8-2.07 0-2.86zM5.41 20L4 18.59l7.72-7.72 1.47 1.35L5.41 20z\"/>\n",
              "  </svg>\n",
              "      </button>\n",
              "      \n",
              "  <style>\n",
              "    .colab-df-container {\n",
              "      display:flex;\n",
              "      flex-wrap:wrap;\n",
              "      gap: 12px;\n",
              "    }\n",
              "\n",
              "    .colab-df-convert {\n",
              "      background-color: #E8F0FE;\n",
              "      border: none;\n",
              "      border-radius: 50%;\n",
              "      cursor: pointer;\n",
              "      display: none;\n",
              "      fill: #1967D2;\n",
              "      height: 32px;\n",
              "      padding: 0 0 0 0;\n",
              "      width: 32px;\n",
              "    }\n",
              "\n",
              "    .colab-df-convert:hover {\n",
              "      background-color: #E2EBFA;\n",
              "      box-shadow: 0px 1px 2px rgba(60, 64, 67, 0.3), 0px 1px 3px 1px rgba(60, 64, 67, 0.15);\n",
              "      fill: #174EA6;\n",
              "    }\n",
              "\n",
              "    [theme=dark] .colab-df-convert {\n",
              "      background-color: #3B4455;\n",
              "      fill: #D2E3FC;\n",
              "    }\n",
              "\n",
              "    [theme=dark] .colab-df-convert:hover {\n",
              "      background-color: #434B5C;\n",
              "      box-shadow: 0px 1px 3px 1px rgba(0, 0, 0, 0.15);\n",
              "      filter: drop-shadow(0px 1px 2px rgba(0, 0, 0, 0.3));\n",
              "      fill: #FFFFFF;\n",
              "    }\n",
              "  </style>\n",
              "\n",
              "      <script>\n",
              "        const buttonEl =\n",
              "          document.querySelector('#df-ac4ffcdf-5098-400c-91fc-136786413aae button.colab-df-convert');\n",
              "        buttonEl.style.display =\n",
              "          google.colab.kernel.accessAllowed ? 'block' : 'none';\n",
              "\n",
              "        async function convertToInteractive(key) {\n",
              "          const element = document.querySelector('#df-ac4ffcdf-5098-400c-91fc-136786413aae');\n",
              "          const dataTable =\n",
              "            await google.colab.kernel.invokeFunction('convertToInteractive',\n",
              "                                                     [key], {});\n",
              "          if (!dataTable) return;\n",
              "\n",
              "          const docLinkHtml = 'Like what you see? Visit the ' +\n",
              "            '<a target=\"_blank\" href=https://colab.research.google.com/notebooks/data_table.ipynb>data table notebook</a>'\n",
              "            + ' to learn more about interactive tables.';\n",
              "          element.innerHTML = '';\n",
              "          dataTable['output_type'] = 'display_data';\n",
              "          await google.colab.output.renderOutput(dataTable, element);\n",
              "          const docLink = document.createElement('div');\n",
              "          docLink.innerHTML = docLinkHtml;\n",
              "          element.appendChild(docLink);\n",
              "        }\n",
              "      </script>\n",
              "    </div>\n",
              "  </div>\n",
              "  "
            ]
          },
          "metadata": {},
          "execution_count": 40
        }
      ]
    },
    {
      "cell_type": "code",
      "metadata": {
        "id": "qEhxJE96eADs"
      },
      "source": [
        "clean_sentences = clean_sentences[['MANIFEST_ID', 'TEXT', 'TEXT_TOKEN', 'TEXT_LEMMA', 'DOMAIN_CODE', 'DOMAIN_NAME', 'CODE', 'LABEL']]\n",
        "clean_sentences.to_csv('/content/drive/MyDrive/UnB/TCC/dados_processados/manifestos_sentences_preproc_v2.csv', index=False)"
      ],
      "execution_count": null,
      "outputs": []
    },
    {
      "cell_type": "markdown",
      "metadata": {
        "id": "n9GcMAT2Ib2u"
      },
      "source": [
        "# Pré processamento da base de Manifestos"
      ]
    },
    {
      "cell_type": "code",
      "metadata": {
        "colab": {
          "base_uri": "https://localhost:8080/",
          "height": 372
        },
        "id": "tH_gtwxaIiXn",
        "outputId": "6b0c142c-17fb-4747-c773-85bf0536bee7"
      },
      "source": [
        "manifestos_df = pd.read_csv('/content/drive/MyDrive/UnB/TCC/datasets/manifestos_texts.csv')\n",
        "manifestos_df.info()\n",
        "manifestos_df.head()"
      ],
      "execution_count": null,
      "outputs": [
        {
          "output_type": "stream",
          "name": "stdout",
          "text": [
            "<class 'pandas.core.frame.DataFrame'>\n",
            "RangeIndex: 102 entries, 0 to 101\n",
            "Data columns (total 2 columns):\n",
            " #   Column       Non-Null Count  Dtype \n",
            "---  ------       --------------  ----- \n",
            " 0   manifest_id  102 non-null    object\n",
            " 1   text         102 non-null    object\n",
            "dtypes: object(2)\n",
            "memory usage: 1.7+ KB\n"
          ]
        },
        {
          "output_type": "execute_result",
          "data": {
            "text/html": [
              "<div>\n",
              "<style scoped>\n",
              "    .dataframe tbody tr th:only-of-type {\n",
              "        vertical-align: middle;\n",
              "    }\n",
              "\n",
              "    .dataframe tbody tr th {\n",
              "        vertical-align: top;\n",
              "    }\n",
              "\n",
              "    .dataframe thead th {\n",
              "        text-align: right;\n",
              "    }\n",
              "</style>\n",
              "<table border=\"1\" class=\"dataframe\">\n",
              "  <thead>\n",
              "    <tr style=\"text-align: right;\">\n",
              "      <th></th>\n",
              "      <th>manifest_id</th>\n",
              "      <th>text</th>\n",
              "    </tr>\n",
              "  </thead>\n",
              "  <tbody>\n",
              "    <tr>\n",
              "      <th>0</th>\n",
              "      <td>180110_201010</td>\n",
              "      <td>Agenda por um Brasil Justo e Sustentável Propo...</td>\n",
              "    </tr>\n",
              "    <tr>\n",
              "      <th>1</th>\n",
              "      <td>180230_198911</td>\n",
              "      <td>DЕМОСRАCIА Еѕtаdо Роdеr Јudiсiáriо Соrruрçãо С...</td>\n",
              "    </tr>\n",
              "    <tr>\n",
              "      <th>2</th>\n",
              "      <td>180230_199410</td>\n",
              "      <td>INTRODUÇÃO O Brasil é um país viável desde que...</td>\n",
              "    </tr>\n",
              "    <tr>\n",
              "      <th>3</th>\n",
              "      <td>180230_199810</td>\n",
              "      <td>UNIÃO DO POVO – MUDA BRASIL Diretrizes do Prog...</td>\n",
              "    </tr>\n",
              "    <tr>\n",
              "      <th>4</th>\n",
              "      <td>180230_200210</td>\n",
              "      <td>Um Brasil para Todos Crescimento, Emprego e In...</td>\n",
              "    </tr>\n",
              "  </tbody>\n",
              "</table>\n",
              "</div>"
            ],
            "text/plain": [
              "     manifest_id                                               text\n",
              "0  180110_201010  Agenda por um Brasil Justo e Sustentável Propo...\n",
              "1  180230_198911  DЕМОСRАCIА Еѕtаdо Роdеr Јudiсiáriо Соrruрçãо С...\n",
              "2  180230_199410  INTRODUÇÃO O Brasil é um país viável desde que...\n",
              "3  180230_199810  UNIÃO DO POVO – MUDA BRASIL Diretrizes do Prog...\n",
              "4  180230_200210  Um Brasil para Todos Crescimento, Emprego e In..."
            ]
          },
          "metadata": {},
          "execution_count": 4
        }
      ]
    },
    {
      "cell_type": "code",
      "metadata": {
        "colab": {
          "base_uri": "https://localhost:8080/",
          "height": 165
        },
        "id": "HL8n0QhvIs0F",
        "outputId": "c168bc64-c9ab-4bfb-93a2-5cc3e7961a44"
      },
      "source": [
        "manifestos_df.loc[0,'text']"
      ],
      "execution_count": null,
      "outputs": [
        {
          "output_type": "execute_result",
          "data": {
            "application/vnd.google.colaboratory.intrinsic+json": {
              "type": "string"
            },
            "text/plain": [
              "'Agenda por um Brasil Justo e Sustentável Propostas de Marina Silva e do Partido Verde para os candidatos ao segundo turno da campanha presidencial buscando compromissos programáticos para um Brasil Justo e Sustentável, a construção da governabilidade com base em princípios e valores éticos. As propostas foram elaboradas a partir das Diretrizes para o Programa de Governo da Candidatura de Marina Silva à Presidência da República “Juncos pelo Brasil que Queremos”, aprovadas pela Convenção do Partido Verde e publicadas no dia 10 de junho de 2010, actualizadas e divulgadas em julho de 2010 para discussão aberta com a sociedade na campanha presidencia1e com novos aportes recebidos no curso desta. Transparência e ética Não instituicão de qualquer mecanismo de tutela ou controle sobre a liberdade de imprensa; Transparência das informações sobre execução orçamentária do governo federal disponibilizando na internet dados primários do Sistema lntegrado de Administração Financeira do Governo Federal (SIAFI), permitindo o acompanhamento da execução dos contratos e dos processos decisórios inclusive dos conselhos de governo e agências reguladoras; Reforma eleitoral Encaminhamento ao Congresso de reforma política com adoção do voto distrital misto, lista cívica e financiamento público de campanhas. Educação para a sociedade do conhecimento Elevação do investimento em educação do setor público para 7% do PIB, priorizando novos investimentos na direção da universalização do acesso à pré-escola e à creche; Eliminação do analfabetismo entre jovens de 15 a 30 anos até 2014 e erradicação do analfabetísmo até 2018; Valorização dos professores da rede pública na sua remuneração, acesso universal a computador e internet, programas de aperfeiçoamento, formação continuada e fóruns democráticos para aprimoramento de currículos e métodos pedagógicos; Viabilização, nos primeiros seis meses de governo, da aprovação no Congresso da Lei de Responsabilidade Educacional e a criação do Sistema Nacional de Educação; Segurança pública Programa de subsídios á manutenção na escola ou em curso técnico profissionalizante de todos jovens em situação de risco; Fundo nacional de segurança para complementar os salários dos policiais civis e militares de forma a garantir sua dedicação exclusiva à segurança pública; Encaminhar, no prazo de seis meses, PEC para reforma do modelo policial brasileiro. Mudanças climáticas energia e infraestrutura Agência reguladora independente para a Política Nacional de Mudanças Climáticas; Publicacão de estimativas anuais de emissões de gases de efeito estufa (GEE) no Brasil e, a cada três anos, seu inventário completo; Estabelecimento de indicadores de intensidade de emissões de GEE na economia brasileira com suas metas de redução previstas em Lei, tornando-as obrigatórias; Aumento em 10%, até 2014, da participação das energias renováveis na matriz energética brasileira; Fim dos leilões de energia para novas termoelétricas movidas a óleo diesel ou carvão mineral; Inclusão efetiva da sociedade civil no Conselho Nacional de Polítia Energética; Supressão do IPI sobre fabricação de veículos elétricos e híbridos; Estabelecimento de um Plano Nacional Decenal de Infra-estrutura compatível com as metas de redução de emissões de GEE; Moratória de novas usinas nucleares ainda não autorizadas pelo Congresso Nacional; Criação do Sistema Nacional de Prevenção e Alerta sobre Desastres Naturais, incluindo publicação anual de mapa de áreas vulneráveis a desastres naturais; Painel científico independente para monitorar a segurança na exploração do pré-sal; Universalização do acesso à banda larga em todo Brasil; Plano de geração de empreos verdes na transição para economia de baixo carbono; Cumprimento das condicionantes socioambientais em relação ao projeto Belo Monte; Segurídade social: saúde, assistência social e previdência Comprometimento de 10% do orçamento federal para saúde conforme previsto na emenda 29/2000 e sua regulamentação no Congresso Nacional, em 2011; Programa Saúde da Família (PSF) para, pelo menos, 80% da população brasileira, até 2014 com redução de três mil para dois mil do número de pessoas atendidas por cada equipe; Carreira para os integrantes do PSF feita de forma solidária entre governos federal, estaduais e municipaís; Aumento para 75% dos domicílios com acesso à rede de esgoto e pelos menos 50% com tratamento do esgoto coletado, até 2014, com vistas à universalização do serviço até 2020; Implantação da rastreabilidade e rotulagem de alimentos transgênicos Programas sociais de terceira geração contemplando a inclusão produtiva como desdobramento dos programas de transferência de renda Proteção dos biomas brasileiros Desmatamento zero de vegetação nativa primária e secundária, em estágio avançado de regeneração, em todos os biomas brasileiros, ressalvadas situações de premente interesse público. Veto a propostas de alteração do Código Florestal que reduzam áreas de reserva legal, preservação permanente ou promovam anistia a desmatadores; Implementação da meta de 10% dos biomas brasileiros incluídos em unidades de conservação; Apresentação de Plano Nacional para Agricultura Sustentável; Gasto público de custeio e Reforma Tributária Limitação da expansão dos gastos de custeio do governo federal à metade do crescimento do PIB; Proposta de reforma tributária nos seis primeiros meses de governo contemplando: Simplificação e restrição drástica da regressividade dos impostos; Informação clara ao consumidor do valor dos impostos na composição dos preços de produtos e serviços que adquira; Revisão da tributação, incentivos e renúncias fiscais de acordo com impacto sobre o meio ambiente e intensidade de emissões de GEE. Redução substancial dos cargos comissionados de livre provimento; Política externa Política externa orientada pela promoção da paz, liberdade, democracia e respeito aos direitos humanos. Fortalecimento da diversidade socioambiental e cultural Conclusão da demarcação e homologação das terras indígenas e criação de fundo para apoiar projetos indígenas e das demais populações tradicionais; Implementaçào do Sistema Nacional de Cultura, ampliando seu orçamento promovendo a descentralização dos recursos e das políticas culturais; Combate a toda forma de discriminação racial, sexual e religiosa. Brasil setembro de 2010'"
            ]
          },
          "metadata": {},
          "execution_count": 6
        }
      ]
    },
    {
      "cell_type": "code",
      "metadata": {
        "colab": {
          "base_uri": "https://localhost:8080/",
          "height": 467
        },
        "id": "8JeMHc4eJPch",
        "outputId": "f4ee7b54-8ffb-4fc4-825f-811cf3d3262b"
      },
      "source": [
        "word_count = manifestos_df['text'].apply(lambda x : len(x.split(\" \")))\n",
        "print(f\"Estatísticas descritivas para o texto: \\n{word_count.describe()}\")\n",
        "word_count.hist(bins = 15)"
      ],
      "execution_count": null,
      "outputs": [
        {
          "output_type": "stream",
          "name": "stdout",
          "text": [
            "Estatísticas descritivas para o texto: \n",
            "count       102.000000\n",
            "mean      26608.519608\n",
            "std       29452.484542\n",
            "min         607.000000\n",
            "25%        2763.250000\n",
            "50%       12235.500000\n",
            "75%       46149.000000\n",
            "max      123395.000000\n",
            "Name: text, dtype: float64\n"
          ]
        },
        {
          "output_type": "execute_result",
          "data": {
            "text/plain": [
              "<matplotlib.axes._subplots.AxesSubplot at 0x7f4dd9f4ea10>"
            ]
          },
          "metadata": {},
          "execution_count": 9
        },
        {
          "output_type": "display_data",
          "data": {
            "image/png": "[encoded data removed]",
            "text/plain": [
              "<Figure size 432x288 with 1 Axes>"
            ]
          },
          "metadata": {
            "needs_background": "light"
          }
        }
      ]
    },
    {
      "cell_type": "code",
      "metadata": {
        "colab": {
          "base_uri": "https://localhost:8080/",
          "height": 183
        },
        "id": "3R6h7bJyJZRQ",
        "outputId": "c52c3fbc-c823-4be9-b874-e1aad9b8696a"
      },
      "source": [
        "contraction_dict = {\n",
        "    \"v\\. exa\": \"vossa excelencia\"\n",
        "    ,\"s\\. exa\": \"vossa excelencia\"\n",
        "    , \"sr\\.\": \"senhor\"\n",
        "    , \"sr\": \"senhor\"\n",
        "    , \"srs\\.\": \"senhores\"\n",
        "    , \"sra\\.\": \"senhora\"\n",
        "    , \"sra\": \"senhora\"\n",
        "    , \"sras\\.\": \"senhoras\"\n",
        "    , \"pag\\.\": \"pagina\"\n",
        "    , \"exm\\.\": \"excelentissimo\"\n",
        "    , \"exma\\.\": \"excelentissima\"\n",
        "}\n",
        "contraction_comp = {re.compile(fr\"\\b{k}\\b\"): v for k, v in contraction_dict.items()}\n",
        "regex_dict = {\n",
        "    r\"\\\\n|\\\\xa0\": \" \"\n",
        "    , r\"[^a-zÀ-ÿ]\": \" \"\n",
        "    , r\"\\b[a-zÀ-ÿ]{1,2}\\b\": \" \"\n",
        "    , r\"\\s+\": \" \"\n",
        "}\n",
        "regex_comp = {re.compile(k): v for k, v in regex_dict.items()}\n",
        "\n",
        "regex = {**contraction_comp, **regex_comp}\n",
        "\n",
        "def parse_text(text):\n",
        "    for pattern, replacement in regex.items():\n",
        "        text = pattern.sub(replacement, text)\n",
        "    return text\n",
        "\n",
        "def text_cleaning(df, text_column):\n",
        "    new_column = text_column + \"_clean\"\n",
        "    df[new_column] = df[text_column].str.lower()\n",
        "    df[new_column] = df[new_column].apply(parse_text)\n",
        "    df[new_column] = df[new_column].str.strip()\n",
        "\n",
        "t = time.time()\n",
        "text_cleaning(manifestos_df, 'text')\n",
        "print(f'Tempo de processamento da limpeza do texto: {round((time.time() - t) / 60, 2)} mins')\n",
        "manifestos_df['text_clean'].iat[0]"
      ],
      "execution_count": null,
      "outputs": [
        {
          "output_type": "stream",
          "name": "stdout",
          "text": [
            "Tempo de processamento da limpeza do texto: 0.13 mins\n"
          ]
        },
        {
          "output_type": "execute_result",
          "data": {
            "application/vnd.google.colaboratory.intrinsic+json": {
              "type": "string"
            },
            "text/plain": [
              "'agenda por brasil justo sustentável propostas marina silva partido verde para candidatos segundo turno campanha presidencial buscando compromissos programáticos para brasil justo sustentável construção governabilidade com base princípios valores éticos propostas foram elaboradas partir das diretrizes para programa governo candidatura marina silva presidência república juncos pelo brasil que queremos aprovadas pela convenção partido verde publicadas dia junho actualizadas divulgadas julho para discussão aberta com sociedade campanha presidencia com novos aportes recebidos curso desta transparência ética não instituicão qualquer mecanismo tutela controle sobre liberdade imprensa transparência das informações sobre execução orçamentária governo federal disponibilizando internet dados primários sistema lntegrado administração financeira governo federal siafi permitindo acompanhamento execução dos contratos dos processos decisórios inclusive dos conselhos governo agências reguladoras reforma eleitoral encaminhamento congresso reforma política com adoção voto distrital misto lista cívica financiamento público campanhas educação para sociedade conhecimento elevação investimento educação setor público para pib priorizando novos investimentos direção universalização acesso pré escola creche eliminação analfabetismo entre jovens anos até erradicação analfabetísmo até valorização dos professores rede pública sua remuneração acesso universal computador internet programas aperfeiçoamento formação continuada fóruns democráticos para aprimoramento currículos métodos pedagógicos viabilização nos primeiros seis meses governo aprovação congresso lei responsabilidade educacional criação sistema nacional educação segurança pública programa subsídios manutenção escola curso técnico profissionalizante todos jovens situação risco fundo nacional segurança para complementar salários dos policiais civis militares forma garantir sua dedicação exclusiva segurança pública encaminhar prazo seis meses pec para reforma modelo policial brasileiro mudanças climáticas energia infraestrutura agência reguladora independente para política nacional mudanças climáticas publicacão estimativas anuais emissões gases efeito estufa gee brasil cada três anos seu inventário completo estabelecimento indicadores intensidade emissões gee economia brasileira com suas metas redução previstas lei tornando obrigatórias aumento até participação das energias renováveis matriz energética brasileira fim dos leilões energia para novas termoelétricas movidas óleo diesel carvão mineral inclusão efetiva sociedade civil conselho nacional polítia energética supressão ipi sobre fabricação veículos elétricos híbridos estabelecimento plano nacional decenal infra estrutura compatível com metas redução emissões gee moratória novas usinas nucleares ainda não autorizadas pelo congresso nacional criação sistema nacional prevenção alerta sobre desastres naturais incluindo publicação anual mapa áreas vulneráveis desastres naturais painel científico independente para monitorar segurança exploração pré sal universalização acesso banda larga todo brasil plano geração empreos verdes transição para economia baixo carbono cumprimento das condicionantes socioambientais relação projeto belo monte segurídade social saúde assistência social previdência comprometimento orçamento federal para saúde conforme previsto emenda sua regulamentação congresso nacional programa saúde família psf para pelo menos população brasileira até com redução três mil para dois mil número pessoas atendidas por cada equipe carreira para integrantes psf feita forma solidária entre governos federal estaduais municipaís aumento para dos domicílios com acesso rede esgoto pelos menos com tratamento esgoto coletado até com vistas universalização serviço até implantação rastreabilidade rotulagem alimentos transgênicos programas sociais terceira geração contemplando inclusão produtiva como desdobramento dos programas transferência renda proteção dos biomas brasileiros desmatamento zero vegetação nativa primária secundária estágio avançado regeneração todos biomas brasileiros ressalvadas situações premente interesse público veto propostas alteração código florestal que reduzam áreas reserva legal preservação permanente promovam anistia desmatadores implementação meta dos biomas brasileiros incluídos unidades conservação apresentação plano nacional para agricultura sustentável gasto público custeio reforma tributária limitação expansão dos gastos custeio governo federal metade crescimento pib proposta reforma tributária nos seis primeiros meses governo contemplando simplificação restrição drástica regressividade dos impostos informação clara consumidor valor dos impostos composição dos preços produtos serviços que adquira revisão tributação incentivos renúncias fiscais acordo com impacto sobre meio ambiente intensidade emissões gee redução substancial dos cargos comissionados livre provimento política externa política externa orientada pela promoção paz liberdade democracia respeito aos direitos humanos fortalecimento diversidade socioambiental cultural conclusão demarcação homologação das terras indígenas criação fundo para apoiar projetos indígenas das demais populações tradicionais implementaçào sistema nacional cultura ampliando seu orçamento promovendo descentralização dos recursos das políticas culturais combate toda forma discriminação racial sexual religiosa brasil setembro'"
            ]
          },
          "metadata": {},
          "execution_count": 11
        }
      ]
    },
    {
      "cell_type": "code",
      "metadata": {
        "colab": {
          "base_uri": "https://localhost:8080/"
        },
        "id": "y7qzn6nBJvZm",
        "outputId": "dadc1bb2-9cca-49c6-e8d6-249b9b7e668b"
      },
      "source": [
        "from spacy.lang.pt.stop_words import STOP_WORDS\n",
        "import nltk\n",
        "\n",
        "nltk.download('stopwords') \n",
        "\n",
        "stopwords_set = set(STOP_WORDS)\\\n",
        "                    .union(set(nltk.corpus.stopwords.words('portuguese')))\\\n",
        "                    .union(set(['mdb', 'ptb', 'pdt', 'pt', 'dem', 'pcdob', 'psb', \n",
        "                                'psdb', 'ptc', 'psc', 'pmn', 'pv', 'pp', 'pstu', \n",
        "                                'pcb', 'prtb', 'dc', 'pco', 'pode', 'psl', 'psol', \n",
        "                                'pl', 'psd', 'pmb', 'up']))"
      ],
      "execution_count": null,
      "outputs": [
        {
          "output_type": "stream",
          "name": "stdout",
          "text": [
            "[nltk_data] Downloading package stopwords to /root/nltk_data...\n",
            "[nltk_data]   Unzipping corpora/stopwords.zip.\n"
          ]
        }
      ]
    },
    {
      "cell_type": "code",
      "metadata": {
        "colab": {
          "base_uri": "https://localhost:8080/",
          "height": 183
        },
        "id": "i_bItHr0J2YE",
        "outputId": "06102ffc-5186-499a-e8b3-3996a3176f5e"
      },
      "source": [
        "def remove_stopwords(doc):\n",
        "    corpus = [unidecode(token) for token in doc.split() if token not in stopwords_set]\n",
        "    return corpus\n",
        "\n",
        "t = time.time()\n",
        "\n",
        "manifestos_df['text_token'] = manifestos_df['text_clean'].apply(remove_stopwords)\n",
        "\n",
        "print(f'Tempo de processamento tokenização: {round((time.time() - t) / 60, 2)} mins')\n",
        "\" \".join(manifestos_df['text_token'].iat[0])"
      ],
      "execution_count": null,
      "outputs": [
        {
          "output_type": "stream",
          "name": "stdout",
          "text": [
            "Tempo de processamento tokenização: 0.07 mins\n"
          ]
        },
        {
          "output_type": "execute_result",
          "data": {
            "application/vnd.google.colaboratory.intrinsic+json": {
              "type": "string"
            },
            "text/plain": [
              "'agenda brasil justo sustentavel propostas marina silva partido verde candidatos turno campanha presidencial buscando compromissos programaticos brasil justo sustentavel construcao governabilidade base principios valores eticos propostas elaboradas diretrizes programa governo candidatura marina silva presidencia republica juncos brasil queremos aprovadas convencao partido verde publicadas dia junho actualizadas divulgadas julho discussao aberta sociedade campanha presidencia aportes recebidos curso transparencia etica instituicao mecanismo tutela controle liberdade imprensa transparencia informacoes execucao orcamentaria governo federal disponibilizando internet dados primarios lntegrado administracao financeira governo federal siafi permitindo acompanhamento execucao contratos processos decisorios conselhos governo agencias reguladoras reforma eleitoral encaminhamento congresso reforma politica adocao voto distrital misto lista civica financiamento publico campanhas educacao sociedade conhecimento elevacao investimento educacao setor publico pib priorizando investimentos direcao universalizacao acesso pre escola creche eliminacao analfabetismo jovens anos erradicacao analfabetismo valorizacao professores rede publica remuneracao acesso universal computador internet programas aperfeicoamento formacao continuada foruns democraticos aprimoramento curriculos metodos pedagogicos viabilizacao primeiros governo aprovacao congresso lei responsabilidade educacional criacao nacional educacao seguranca publica programa subsidios manutencao escola curso tecnico profissionalizante jovens situacao risco fundo nacional seguranca complementar salarios policiais civis militares garantir dedicacao exclusiva seguranca publica encaminhar prazo pec reforma modelo policial brasileiro mudancas climaticas energia infraestrutura agencia reguladora independente politica nacional mudancas climaticas publicacao estimativas anuais emissoes gases efeito estufa gee brasil anos inventario completo estabelecimento indicadores intensidade emissoes gee economia brasileira metas reducao previstas lei tornando obrigatorias aumento participacao energias renovaveis matriz energetica brasileira leiloes energia termoeletricas movidas oleo diesel carvao mineral inclusao efetiva sociedade civil nacional politia energetica supressao ipi fabricacao veiculos eletricos hibridos estabelecimento plano nacional decenal infra estrutura compativel metas reducao emissoes gee moratoria usinas nucleares autorizadas congresso nacional criacao nacional prevencao alerta desastres naturais incluindo publicacao anual mapa areas vulneraveis desastres naturais painel cientifico independente monitorar seguranca exploracao pre sal universalizacao acesso banda larga brasil plano geracao empreos verdes transicao economia carbono cumprimento condicionantes socioambientais projeto belo monte seguridade social saude assistencia social previdencia comprometimento orcamento federal saude conforme previsto emenda regulamentacao congresso nacional programa saude familia psf populacao brasileira reducao pessoas atendidas equipe carreira integrantes psf feita solidaria governos federal estaduais municipais aumento domicilios acesso rede esgoto tratamento esgoto coletado vistas universalizacao servico implantacao rastreabilidade rotulagem alimentos transgenicos programas sociais geracao contemplando inclusao produtiva desdobramento programas transferencia renda protecao biomas brasileiros desmatamento vegetacao nativa primaria secundaria estagio avancado regeneracao biomas brasileiros ressalvadas situacoes premente interesse publico veto propostas alteracao codigo florestal reduzam areas reserva legal preservacao permanente promovam anistia desmatadores implementacao meta biomas brasileiros incluidos unidades conservacao apresentacao plano nacional agricultura sustentavel gasto publico custeio reforma tributaria limitacao expansao gastos custeio governo federal metade crescimento pib proposta reforma tributaria primeiros governo contemplando simplificacao restricao drastica regressividade impostos informacao clara consumidor impostos composicao precos produtos servicos adquira revisao tributacao incentivos renuncias fiscais acordo impacto ambiente intensidade emissoes gee reducao substancial cargos comissionados livre provimento politica externa politica externa orientada promocao paz liberdade democracia respeito direitos humanos fortalecimento diversidade socioambiental cultural conclusao demarcacao homologacao terras indigenas criacao fundo apoiar projetos indigenas populacoes tradicionais implementacao nacional cultura ampliando orcamento promovendo descentralizacao recursos politicas culturais combate discriminacao racial sexual religiosa brasil setembro'"
            ]
          },
          "metadata": {},
          "execution_count": 18
        }
      ]
    },
    {
      "cell_type": "code",
      "metadata": {
        "colab": {
          "base_uri": "https://localhost:8080/"
        },
        "id": "S5VZSpjpKWIS",
        "outputId": "788e0fee-39e4-4fdf-f279-d7387ffc48d8"
      },
      "source": [
        "nlp = spacy.load('pt_core_news_lg', disable=['tagger', 'parser', 'ner'])\n",
        "nlp.add_pipe('sentencizer')"
      ],
      "execution_count": null,
      "outputs": [
        {
          "output_type": "execute_result",
          "data": {
            "text/plain": [
              "<spacy.pipeline.sentencizer.Sentencizer at 0x7f4dc8849500>"
            ]
          },
          "metadata": {},
          "execution_count": 19
        }
      ]
    },
    {
      "cell_type": "code",
      "metadata": {
        "colab": {
          "base_uri": "https://localhost:8080/"
        },
        "id": "luFPEEjZKvIr",
        "outputId": "240813e2-5fbd-408c-b4ed-53cdf33c5282"
      },
      "source": [
        "from joblib import Parallel, delayed\n",
        "\n",
        "def chunker(iterable, total_length, chunksize):\n",
        "    return (iterable[pos: pos + chunksize] for pos in range(0, total_length, chunksize))\n",
        "\n",
        "def flatten(list_of_lists):\n",
        "    return [item for sublist in list_of_lists for item in sublist]\n",
        "\n",
        "def remove_stopwords(doc):\n",
        "    corpus = [unidecode(token.lemma_) for token in doc if (token.text not in stopwords_set) and (token.pos_ != 'PROPN')]\n",
        "    return corpus\n",
        "\n",
        "def process_chunk(texts):\n",
        "    preproc_pipe = []\n",
        "    for doc in nlp.pipe(texts, batch_size=5):\n",
        "        preproc_pipe.append(remove_stopwords(doc))\n",
        "    return preproc_pipe\n",
        "\n",
        "def preprocess_parallel(texts, chunksize=50):\n",
        "    executor = Parallel(n_jobs=2, backend='multiprocessing', prefer=\"processes\")\n",
        "    do = delayed(process_chunk)\n",
        "    tasks = (do(chunk) for chunk in chunker(texts, len(manifestos_df), chunksize=chunksize))\n",
        "    result = executor(tasks)\n",
        "    return flatten(result)\n",
        "\n",
        "t = time.time()\n",
        "\n",
        "manifestos_df['text_lemma'] = preprocess_parallel(manifestos_df['text_clean'])\n",
        "\n",
        "print(f'Tempo de processamento tokenização: {round((time.time() - t) / 60, 2)} mins')"
      ],
      "execution_count": null,
      "outputs": [
        {
          "output_type": "stream",
          "name": "stdout",
          "text": [
            "Tempo de processamento tokenização: 1.85 mins\n"
          ]
        }
      ]
    },
    {
      "cell_type": "markdown",
      "metadata": {
        "id": "3Yzkb4wGLVcg"
      },
      "source": [
        "### Analysis"
      ]
    },
    {
      "cell_type": "code",
      "metadata": {
        "colab": {
          "base_uri": "https://localhost:8080/",
          "height": 467
        },
        "id": "tSL3qHwjLXiX",
        "outputId": "a39f74a0-47b9-42bf-fa5f-3146a1adbc69"
      },
      "source": [
        "word_count = manifestos_df['text_lemma'].apply(lambda x : len(x))\n",
        "print(f\"Estatísticas descritivas para o texto: \\n{word_count.describe()}\")\n",
        "word_count.hist(bins = 15)"
      ],
      "execution_count": null,
      "outputs": [
        {
          "output_type": "stream",
          "name": "stdout",
          "text": [
            "Estatísticas descritivas para o texto: \n",
            "count      102.000000\n",
            "mean     12741.696078\n",
            "std      14116.693777\n",
            "min        245.000000\n",
            "25%       1277.250000\n",
            "50%       5930.500000\n",
            "75%      22475.500000\n",
            "max      58992.000000\n",
            "Name: text_lemma, dtype: float64\n"
          ]
        },
        {
          "output_type": "execute_result",
          "data": {
            "text/plain": [
              "<matplotlib.axes._subplots.AxesSubplot at 0x7f4dcc52bd90>"
            ]
          },
          "metadata": {},
          "execution_count": 23
        },
        {
          "output_type": "display_data",
          "data": {
            "image/png": "[encoded data removed]",
            "text/plain": [
              "<Figure size 432x288 with 1 Axes>"
            ]
          },
          "metadata": {
            "needs_background": "light"
          }
        }
      ]
    },
    {
      "cell_type": "code",
      "metadata": {
        "id": "v-YbcWEuLjdz",
        "outputId": "ff07bbe3-2ae9-463d-d2d5-0621068cf3b4",
        "colab": {
          "base_uri": "https://localhost:8080/"
        }
      },
      "source": [
        "corpus_array = [doc for doc in manifestos_df['text_lemma']]\n",
        "word_frequency = defaultdict(int)\n",
        "for sentence in corpus_array:\n",
        "    for word in sentence:\n",
        "        word_frequency[word] += 1\n",
        "print(f\"Vocabulary present in corpus: {len(word_frequency)}\")\n",
        "print(\"Most frequent words in corpus:\")\n",
        "sorted(word_frequency, key=word_frequency.get, reverse=True)[:15]"
      ],
      "execution_count": null,
      "outputs": [
        {
          "output_type": "stream",
          "name": "stdout",
          "text": [
            "Vocabulary present in corpus: 23581\n",
            "Most frequent words in corpus:\n"
          ]
        },
        {
          "output_type": "execute_result",
          "data": {
            "text/plain": [
              "['politico',\n",
              " 'publico',\n",
              " 'social',\n",
              " 'nacional',\n",
              " 'pais',\n",
              " 'desenvolvimento',\n",
              " 'servico',\n",
              " 'programar',\n",
              " 'garantir',\n",
              " 'governar',\n",
              " 'trabalhar',\n",
              " 'direito',\n",
              " 'empresar',\n",
              " 'ano',\n",
              " 'recurso']"
            ]
          },
          "metadata": {},
          "execution_count": 24
        }
      ]
    },
    {
      "cell_type": "code",
      "metadata": {
        "id": "RKT2hx-HLo48"
      },
      "source": [
        ""
      ],
      "execution_count": null,
      "outputs": []
    }
  ]
}